{
 "cells": [
  {
   "cell_type": "markdown",
   "id": "22c81d8b-ba11-489d-890c-bcd29b82054a",
   "metadata": {},
   "source": [
    "Мы уже знаем, как прибавить и вычесть единицу. Как прибавить произольное число?\n",
    "\n",
    "# Давайте реализуем `a += 2`, если `b[1] = 1`"
   ]
  },
  {
   "cell_type": "code",
   "execution_count": 2,
   "id": "b13a2211-5ef7-435f-b736-b7a17a076924",
   "metadata": {},
   "outputs": [],
   "source": [
    "from qiskit import QuantumRegister, ClassicalRegister, QuantumCircuit\n",
    "from qiskit.visualization import plot_histogram\n",
    "from qiskit import execute, Aer\n",
    "import matplotlib.pyplot as plt"
   ]
  },
  {
   "cell_type": "code",
   "execution_count": 7,
   "id": "6e5b5ca1-098c-4ab3-8f72-910869ceafc3",
   "metadata": {},
   "outputs": [
    {
     "data": {
      "text/html": [
       "<pre style=\"word-wrap: normal;white-space: pre;background: #fff0;line-height: 1.1;font-family: &quot;Courier New&quot;,Courier,monospace\">             ░            ░ ┌─┐      \n",
       "  a_0: ──────░────────────░─┤M├──────\n",
       "       ┌───┐ ░      ┌───┐ ░ └╥┘┌─┐   \n",
       "  a_1: ┤ X ├─░───■──┤ X ├─░──╫─┤M├───\n",
       "       └───┘ ░ ┌─┴─┐└─┬─┘ ░  ║ └╥┘┌─┐\n",
       "  a_2: ──────░─┤ X ├──┼───░──╫──╫─┤M├\n",
       "             ░ └─┬─┘  │   ░  ║  ║ └╥┘\n",
       "  b_0: ──────░───┼────┼───░──╫──╫──╫─\n",
       "       ┌───┐ ░   │    │   ░  ║  ║  ║ \n",
       "  b_1: ┤ H ├─░───■────■───░──╫──╫──╫─\n",
       "       └───┘ ░            ░  ║  ║  ║ \n",
       "res: 3/══════════════════════╩══╩══╩═\n",
       "                             0  1  2 </pre>"
      ],
      "text/plain": [
       "             ░            ░ ┌─┐      \n",
       "  a_0: ──────░────────────░─┤M├──────\n",
       "       ┌───┐ ░      ┌───┐ ░ └╥┘┌─┐   \n",
       "  a_1: ┤ X ├─░───■──┤ X ├─░──╫─┤M├───\n",
       "       └───┘ ░ ┌─┴─┐└─┬─┘ ░  ║ └╥┘┌─┐\n",
       "  a_2: ──────░─┤ X ├──┼───░──╫──╫─┤M├\n",
       "             ░ └─┬─┘  │   ░  ║  ║ └╥┘\n",
       "  b_0: ──────░───┼────┼───░──╫──╫──╫─\n",
       "       ┌───┐ ░   │    │   ░  ║  ║  ║ \n",
       "  b_1: ┤ H ├─░───■────■───░──╫──╫──╫─\n",
       "       └───┘ ░            ░  ║  ║  ║ \n",
       "res: 3/══════════════════════╩══╩══╩═\n",
       "                             0  1  2 "
      ]
     },
     "execution_count": 7,
     "metadata": {},
     "output_type": "execute_result"
    }
   ],
   "source": [
    "# регистр из 3 кубитов для числа a\n",
    "a = QuantumRegister(3, \"a\")\n",
    "b = QuantumRegister(2, \"b\")\n",
    "cr = ClassicalRegister(3, \"res\")\n",
    "qc = QuantumCircuit(a, b, cr)\n",
    "\n",
    "# a = 2, \n",
    "qc.x(a[1])\n",
    "# b = суперпозиция  1/sqrt(2)(|0>+|2>)\n",
    "qc.h(b[1])\n",
    "\n",
    "qc.barrier()\n",
    "\n",
    "# a += 2, контролируемое b[1]\n",
    "qc.ccx(b[1], a[1], a[2])\n",
    "qc.cx(b[1], a[1])\n",
    "\n",
    "qc.barrier()\n",
    "\n",
    "qc.measure(a, cr)\n",
    "qc.draw()"
   ]
  },
  {
   "cell_type": "code",
   "execution_count": 21,
   "id": "fc97d83b-6068-463b-82e0-8ca14c4f315d",
   "metadata": {},
   "outputs": [
    {
     "data": {
      "image/png": "[encoded data removed]",
      "text/plain": [
       "<Figure size 504x360 with 1 Axes>"
      ]
     },
     "execution_count": 21,
     "metadata": {},
     "output_type": "execute_result"
    }
   ],
   "source": [
    "job = execute(qc, Aer.get_backend('qasm_simulator'), shots=100)\n",
    "counts = job.result().get_counts(qc)\n",
    "plot_histogram(counts)"
   ]
  },
  {
   "cell_type": "markdown",
   "id": "b5976dcf-d154-434d-a057-52aec404fc88",
   "metadata": {},
   "source": [
    "# А теперь усложним.\n",
    "\n",
    "```\n",
    "if b[0] == 1 then a += 1\n",
    "if b[1] == 1 then a += 2\n",
    "```"
   ]
  },
  {
   "cell_type": "code",
   "execution_count": 11,
   "id": "09e1054a-f9b6-4196-a26b-b495381dcf87",
   "metadata": {},
   "outputs": [],
   "source": [
    "from qiskit import QuantumRegister, ClassicalRegister, QuantumCircuit\n",
    "from qiskit.visualization import plot_histogram\n",
    "from qiskit import execute, Aer\n",
    "import matplotlib.pyplot as plt"
   ]
  },
  {
   "cell_type": "code",
   "execution_count": 19,
   "id": "ad24dd35-6f3c-4c2d-81a5-8707d84084cb",
   "metadata": {},
   "outputs": [
    {
     "data": {
      "text/html": [
       "<pre style=\"word-wrap: normal;white-space: pre;background: #fff0;line-height: 1.1;font-family: &quot;Courier New&quot;,Courier,monospace\">         ┌──────────────────────────────┐   ░           ┌───┐ ░            ░ »\n",
       "  a_0: ──┤0                             ├───░───■────■──┤ X ├─░────────────░─»\n",
       "         │                              │   ░   │  ┌─┴─┐└─┬─┘ ░      ┌───┐ ░ »\n",
       "  a_1: ──┤1 Initialize(0,0,1,0,0,0,0,0) ├───░───■──┤ X ├──┼───░───■──┤ X ├─░─»\n",
       "         │                              │   ░ ┌─┴─┐└─┬─┘  │   ░ ┌─┴─┐└─┬─┘ ░ »\n",
       "  a_2: ──┤2                             ├───░─┤ X ├──┼────┼───░─┤ X ├──┼───░─»\n",
       "       ┌─┴──────────────────────────────┴─┐ ░ └─┬─┘  │    │   ░ └─┬─┘  │   ░ »\n",
       "  b_0: ┤0                                 ├─░───■────■────■───░───┼────┼───░─»\n",
       "       │  Initialize(0,0.70711,0,0.70711) │ ░                 ░   │    │   ░ »\n",
       "  b_1: ┤1                                 ├─░─────────────────░───■────■───░─»\n",
       "       └──────────────────────────────────┘ ░                 ░            ░ »\n",
       "res: 3/══════════════════════════════════════════════════════════════════════»\n",
       "                                                                             »\n",
       "«       ┌─┐      \n",
       "«  a_0: ┤M├──────\n",
       "«       └╥┘┌─┐   \n",
       "«  a_1: ─╫─┤M├───\n",
       "«        ║ └╥┘┌─┐\n",
       "«  a_2: ─╫──╫─┤M├\n",
       "«        ║  ║ └╥┘\n",
       "«  b_0: ─╫──╫──╫─\n",
       "«        ║  ║  ║ \n",
       "«  b_1: ─╫──╫──╫─\n",
       "«        ║  ║  ║ \n",
       "«res: 3/═╩══╩══╩═\n",
       "«        0  1  2 </pre>"
      ],
      "text/plain": [
       "         ┌──────────────────────────────┐   ░           ┌───┐ ░            ░ »\n",
       "  a_0: ──┤0                             ├───░───■────■──┤ X ├─░────────────░─»\n",
       "         │                              │   ░   │  ┌─┴─┐└─┬─┘ ░      ┌───┐ ░ »\n",
       "  a_1: ──┤1 Initialize(0,0,1,0,0,0,0,0) ├───░───■──┤ X ├──┼───░───■──┤ X ├─░─»\n",
       "         │                              │   ░ ┌─┴─┐└─┬─┘  │   ░ ┌─┴─┐└─┬─┘ ░ »\n",
       "  a_2: ──┤2                             ├───░─┤ X ├──┼────┼───░─┤ X ├──┼───░─»\n",
       "       ┌─┴──────────────────────────────┴─┐ ░ └─┬─┘  │    │   ░ └─┬─┘  │   ░ »\n",
       "  b_0: ┤0                                 ├─░───■────■────■───░───┼────┼───░─»\n",
       "       │  Initialize(0,0.70711,0,0.70711) │ ░                 ░   │    │   ░ »\n",
       "  b_1: ┤1                                 ├─░─────────────────░───■────■───░─»\n",
       "       └──────────────────────────────────┘ ░                 ░            ░ »\n",
       "res: 3/══════════════════════════════════════════════════════════════════════»\n",
       "                                                                             »\n",
       "«       ┌─┐      \n",
       "«  a_0: ┤M├──────\n",
       "«       └╥┘┌─┐   \n",
       "«  a_1: ─╫─┤M├───\n",
       "«        ║ └╥┘┌─┐\n",
       "«  a_2: ─╫──╫─┤M├\n",
       "«        ║  ║ └╥┘\n",
       "«  b_0: ─╫──╫──╫─\n",
       "«        ║  ║  ║ \n",
       "«  b_1: ─╫──╫──╫─\n",
       "«        ║  ║  ║ \n",
       "«res: 3/═╩══╩══╩═\n",
       "«        0  1  2 "
      ]
     },
     "metadata": {},
     "output_type": "display_data"
    }
   ],
   "source": [
    "a = QuantumRegister(3, \"a\")\n",
    "b = QuantumRegister(2, \"b\")\n",
    "\n",
    "cr = ClassicalRegister(3, \"res\")\n",
    "qc = QuantumCircuit(a, b, cr)\n",
    "\n",
    "# a = 2, b = |1>+|3>\n",
    "qc.initialize([0, 0, 1, 0, 0, 0, 0, 0], a)\n",
    "qc.initialize([0, .5 ** .5, 0, .5 ** .5], b)\n",
    "\n",
    "qc.barrier()\n",
    "\n",
    "# напишите здесь a += 1, контролируемое кубитом b[0]\n",
    "# TODO\n",
    "\n",
    "qc.barrier()\n",
    "\n",
    "# напишите здесь a += 2, контролируемое кубитом b[1]\n",
    "# TODO\n",
    "\n",
    "qc.barrier()\n",
    "\n",
    "qc.measure(a, cr)\n",
    "display(qc.draw())"
   ]
  },
  {
   "cell_type": "code",
   "execution_count": 20,
   "id": "e847f842-e061-4d5d-a4c4-983ffe06913c",
   "metadata": {},
   "outputs": [
    {
     "data": {
      "image/png": "[encoded data removed]",
      "text/plain": [
       "<Figure size 504x360 with 1 Axes>"
      ]
     },
     "execution_count": 20,
     "metadata": {},
     "output_type": "execute_result"
    }
   ],
   "source": [
    "job = execute(qc, Aer.get_backend('qasm_simulator'), shots=1000)\n",
    "counts = job.result().get_counts(qc)\n",
    "plot_histogram(counts)"
   ]
  },
  {
   "cell_type": "markdown",
   "id": "45ee0fd6-29a4-4695-920a-9f8f832f720b",
   "metadata": {},
   "source": [
    "[решение](Q62R_Summator_Solution.ipynb)"
   ]
  }
 ],
 "metadata": {
  "kernelspec": {
   "display_name": "Python [conda env:qiskit]",
   "language": "python",
   "name": "conda-env-qiskit-py"
  },
  "language_info": {
   "codemirror_mode": {
    "name": "ipython",
    "version": 3
   },
   "file_extension": ".py",
   "mimetype": "text/x-python",
   "name": "python",
   "nbconvert_exporter": "python",
   "pygments_lexer": "ipython3",
   "version": "3.9.6"
  }
 },
 "nbformat": 4,
 "nbformat_minor": 5
}
