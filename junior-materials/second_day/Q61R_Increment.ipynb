{
 "cells": [
  {
   "cell_type": "markdown",
   "id": "47edbd28-127e-4e4e-8986-7d3a3c70ebda",
   "metadata": {},
   "source": [
    "# Двоичное представление данных\n",
    "\n",
    "Напишите код, который использует [дополнение до 2](https://en.wikipedia.org/wiki/Two%27s_complement) для представления числе `-2` и `7` в 4-битной кодировке (для начала, по отдельности)."
   ]
  },
  {
   "cell_type": "code",
   "execution_count": 2,
   "id": "53a73536-0195-4d63-9ddf-e66ebc3f4e87",
   "metadata": {},
   "outputs": [],
   "source": [
    "from qiskit import QuantumRegister, ClassicalRegister, QuantumCircuit\n",
    "from qiskit.visualization import plot_histogram\n",
    "from qiskit import execute, Aer\n",
    "import matplotlib.pyplot as plt"
   ]
  },
  {
   "cell_type": "code",
   "execution_count": 10,
   "id": "c59b0269-6016-4ab2-9d8f-141407d8b2ec",
   "metadata": {},
   "outputs": [
    {
     "data": {
      "text/plain": [
       "<qiskit.circuit.instructionset.InstructionSet at 0x21f65f09f40>"
      ]
     },
     "execution_count": 10,
     "metadata": {},
     "output_type": "execute_result"
    }
   ],
   "source": [
    "qr = QuantumRegister(4, 'qubits')\n",
    "cr = ClassicalRegister(4, 'bits')\n",
    "qc = QuantumCircuit(qr, cr)\n",
    "\n",
    "# ваш код здесь \n",
    "\n",
    "qc.measure(qr, cr)"
   ]
  },
  {
   "cell_type": "markdown",
   "id": "a92992b3-2f90-463f-8127-72780691f131",
   "metadata": {},
   "source": [
    "Проверьте, что ваш код делать то, что вы от него ожидаете."
   ]
  },
  {
   "cell_type": "code",
   "execution_count": 11,
   "id": "8130f625-15c8-44a4-a276-19d1859e87f0",
   "metadata": {},
   "outputs": [
    {
     "data": {
      "image/png": "[encoded data removed]",
      "text/plain": [
       "<Figure size 504x360 with 1 Axes>"
      ]
     },
     "metadata": {
      "needs_background": "light"
     },
     "output_type": "display_data"
    }
   ],
   "source": [
    "job = execute(qc, Aer.get_backend('qasm_simulator'), shots=1000)\n",
    "counts = job.result().get_counts(qc)\n",
    "plot_histogram(counts)\n",
    "plt.show()"
   ]
  },
  {
   "cell_type": "markdown",
   "id": "9924427a-11a4-45f2-a9dc-26a293ea2eb1",
   "metadata": {},
   "source": [
    "# Реализация инкремента\n",
    "\n",
    "## Подготовка. Множественное управление\n",
    "\n",
    "Обобщением вентилей с множественным управлением в qiskit является класс [MCMT](https://qiskit.org/documentation/stubs/qiskit.circuit.library.MCMT.html). Для стандартных вентилей это можно сделать проще, а для CNOT вообще есть метод `.mct()` [[docs]](https://qiskit.org/documentation/stubs/qiskit.circuit.QuantumCircuit.mct.html). "
   ]
  },
  {
   "cell_type": "code",
   "execution_count": null,
   "id": "421c6469-84e0-480a-91f9-8393c23c4a40",
   "metadata": {},
   "outputs": [],
   "source": [
    "from qiskit.circuit.library import XGate\n",
    "\n",
    "qr = QuantumRegister(4, 'qubits')\n",
    "cr = ClassicalRegister(4, 'bits')\n",
    "qc = QuantumCircuit(qr, cr)\n",
    "\n",
    "qc.x([0, 1, 2])\n",
    "# 0, 1, 2 управляют, 3 управляется\n",
    "qc.mct([0, 1, 2], 3)\n",
    "qc.measure(qr, cr)\n",
    "print(qc)\n",
    "\n",
    "job = execute(qc, Aer.get_backend('qasm_simulator'), shots=1000)\n",
    "counts = job.result().get_counts(qc)\n",
    "plot_histogram(counts)"
   ]
  },
  {
   "cell_type": "markdown",
   "id": "6f806cfc-83e7-4282-ae7f-6ce2aede4d5a",
   "metadata": {},
   "source": [
    "## Простой инкремент\n",
    "Напишите программу, которая выполняет простой инкремент так, как показано на схеме."
   ]
  },
  {
   "cell_type": "code",
   "execution_count": 24,
   "id": "bc912dcd-1e71-4b63-87f3-4020eba30255",
   "metadata": {},
   "outputs": [
    {
     "data": {
      "text/html": [
       "<pre style=\"word-wrap: normal;white-space: pre;background: #fff0;line-height: 1.1;font-family: &quot;Courier New&quot;,Courier,monospace\">          ┌───┐ ░                ┌───┐ ░ ┌─┐         \n",
       "qubits_0: ┤ X ├─░───■────■────■──┤ X ├─░─┤M├─────────\n",
       "          └───┘ ░   │    │  ┌─┴─┐└───┘ ░ └╥┘┌─┐      \n",
       "qubits_1: ──────░───■────■──┤ X ├──────░──╫─┤M├──────\n",
       "          ┌───┐ ░   │  ┌─┴─┐└───┘      ░  ║ └╥┘┌─┐   \n",
       "qubits_2: ┤ X ├─░───■──┤ X ├───────────░──╫──╫─┤M├───\n",
       "          └───┘ ░ ┌─┴─┐└───┘           ░  ║  ║ └╥┘┌─┐\n",
       "qubits_3: ──────░─┤ X ├────────────────░──╫──╫──╫─┤M├\n",
       "                ░ └───┘                ░  ║  ║  ║ └╥┘\n",
       "  bits: 4/════════════════════════════════╩══╩══╩══╩═\n",
       "                                          0  1  2  3 </pre>"
      ],
      "text/plain": [
       "          ┌───┐ ░                ┌───┐ ░ ┌─┐         \n",
       "qubits_0: ┤ X ├─░───■────■────■──┤ X ├─░─┤M├─────────\n",
       "          └───┘ ░   │    │  ┌─┴─┐└───┘ ░ └╥┘┌─┐      \n",
       "qubits_1: ──────░───■────■──┤ X ├──────░──╫─┤M├──────\n",
       "          ┌───┐ ░   │  ┌─┴─┐└───┘      ░  ║ └╥┘┌─┐   \n",
       "qubits_2: ┤ X ├─░───■──┤ X ├───────────░──╫──╫─┤M├───\n",
       "          └───┘ ░ ┌─┴─┐└───┘           ░  ║  ║ └╥┘┌─┐\n",
       "qubits_3: ──────░─┤ X ├────────────────░──╫──╫──╫─┤M├\n",
       "                ░ └───┘                ░  ║  ║  ║ └╥┘\n",
       "  bits: 4/════════════════════════════════╩══╩══╩══╩═\n",
       "                                          0  1  2  3 "
      ]
     },
     "metadata": {},
     "output_type": "display_data"
    },
    {
     "data": {
      "image/png": "[encoded data removed]",
      "text/plain": [
       "<Figure size 504x360 with 1 Axes>"
      ]
     },
     "metadata": {
      "needs_background": "light"
     },
     "output_type": "display_data"
    }
   ],
   "source": [
    "from qiskit.circuit.library import XGate\n",
    "\n",
    "qr = QuantumRegister(4, 'qubits')\n",
    "cr = ClassicalRegister(4, 'bits')\n",
    "qc = QuantumCircuit(qr, cr)\n",
    "\n",
    "qc.x([0, 2])\n",
    "qc.barrier()\n",
    "\n",
    "################ YOUR CODE HERE #########################\n",
    "\n",
    "#########################################################\n",
    "qc.barrier()\n",
    "qc.measure(qr, cr)\n",
    "display(qc.draw())\n",
    "\n",
    "job = execute(qc, Aer.get_backend('qasm_simulator'), shots=1000)\n",
    "counts = job.result().get_counts(qc)\n",
    "plot_histogram(counts)\n",
    "plt.show()"
   ]
  },
  {
   "cell_type": "markdown",
   "id": "8493e878-1eaa-43c5-902b-48c472797947",
   "metadata": {},
   "source": [
    "[решение](Q61R_Increment_solution.ipynb)"
   ]
  },
  {
   "cell_type": "markdown",
   "id": "6b51756e-338a-4931-bb1a-e66d466bb194",
   "metadata": {},
   "source": [
    "## Будет ли работать инкремент для суперпозиции состояний?\n",
    "\n",
    "Подготовьте суперпозицию состояний `-2` и `7`, а затем примените к ним инкремент.\n",
    "\n",
    "Подсказка: $\\frac{1}{\\sqrt{2}}(|0111\\rangle+|1110\\rangle)$. Нужно подготовить пару Белла на 0 и 3 кубитах."
   ]
  },
  {
   "cell_type": "code",
   "execution_count": null,
   "id": "6d81b169-8d33-4f50-a800-e2868cd2bab6",
   "metadata": {},
   "outputs": [],
   "source": [
    "qr = QuantumRegister(4, 'qubits')\n",
    "cr = ClassicalRegister(4, 'bits')\n",
    "qc = QuantumCircuit(qr, cr)\n",
    "\n",
    "########### YOUR CODE HERE ###############################\n",
    "\n",
    "\n",
    "##########################################################\n",
    "\n",
    "qc.barrier()\n",
    "qc.measure(qr, cr)\n",
    "display(qc.draw())\n",
    "\n",
    "job = execute(qc, Aer.get_backend('qasm_simulator'), shots=1000)\n",
    "counts = job.result().get_counts(qc)\n",
    "plot_histogram(counts)\n",
    "plt.show()"
   ]
  },
  {
   "cell_type": "markdown",
   "id": "42079581-d4fc-4660-a637-7c637a4e7373",
   "metadata": {},
   "source": [
    "[решение](Q61R_Increment_solution.ipynb)"
   ]
  }
 ],
 "metadata": {
  "kernelspec": {
   "display_name": "Python [conda env:qiskit]",
   "language": "python",
   "name": "conda-env-qiskit-py"
  },
  "language_info": {
   "codemirror_mode": {
    "name": "ipython",
    "version": 3
   },
   "file_extension": ".py",
   "mimetype": "text/x-python",
   "name": "python",
   "nbconvert_exporter": "python",
   "pygments_lexer": "ipython3",
   "version": "3.9.6"
  }
 },
 "nbformat": 4,
 "nbformat_minor": 5
}
