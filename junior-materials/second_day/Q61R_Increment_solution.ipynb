{
 "cells": [
  {
   "cell_type": "markdown",
   "id": "47edbd28-127e-4e4e-8986-7d3a3c70ebda",
   "metadata": {},
   "source": [
    "# Binary data representation\n",
    "\n",
    "Write a code, which, using [2's complement](https://en.wikipedia.org/wiki/Two%27s_complement) will represent numbers `-2` and `6` in 4-bit encoding (separately!)."
   ]
  },
  {
   "cell_type": "code",
   "execution_count": 3,
   "id": "53a73536-0195-4d63-9ddf-e66ebc3f4e87",
   "metadata": {},
   "outputs": [],
   "source": [
    "from qiskit import QuantumRegister, ClassicalRegister, QuantumCircuit\n",
    "from qiskit.visualization import plot_histogram\n",
    "from qiskit import execute, Aer\n",
    "import matplotlib.pyplot as plt"
   ]
  },
  {
   "cell_type": "code",
   "execution_count": 4,
   "id": "c59b0269-6016-4ab2-9d8f-141407d8b2ec",
   "metadata": {},
   "outputs": [
    {
     "data": {
      "text/plain": [
       "<qiskit.circuit.instructionset.InstructionSet at 0x1b70d0e6fa0>"
      ]
     },
     "execution_count": 4,
     "metadata": {},
     "output_type": "execute_result"
    }
   ],
   "source": [
    "qr = QuantumRegister(4, 'qubits')\n",
    "cr = ClassicalRegister(4, 'bits')\n",
    "qc = QuantumCircuit(qr, cr)\n",
    "\n",
    "# write your code here \n",
    "\n",
    "# qc.x([0, 1, 2])\n",
    "# -2 = ~(2) + 1 = ~0010 + 1 = 1101 + 1 = 1110\n",
    "qc.x([1, 2, 3])\n",
    "\n",
    "qc.measure(qr, cr)"
   ]
  },
  {
   "cell_type": "markdown",
   "id": "a92992b3-2f90-463f-8127-72780691f131",
   "metadata": {},
   "source": [
    "Validate your code produces exaclty what you planned"
   ]
  },
  {
   "cell_type": "code",
   "execution_count": 3,
   "id": "8130f625-15c8-44a4-a276-19d1859e87f0",
   "metadata": {},
   "outputs": [],
   "source": [
    "job = execute(qc, Aer.get_backend('qasm_simulator'), shots=1000)\n",
    "counts = job.result().get_counts(qc)\n",
    "plot_histogram(counts)\n",
    "plt.show()"
   ]
  },
  {
   "cell_type": "markdown",
   "id": "9924427a-11a4-45f2-a9dc-26a293ea2eb1",
   "metadata": {},
   "source": [
    "# Increment implementation\n",
    "\n",
    "## Preparation. Multicontrol\n",
    "\n",
    "Genetalization of controlled gates is [MCMT](https://qiskit.org/documentation/stubs/qiskit.circuit.library.MCMT.html). But we can do it easier, with standard gates. Up to 3 there are [even classes](https://qiskit.org/documentation/stubs/qiskit.circuit.library.C3XGate.html#qiskit.circuit.library.C3XGate). Or you can go with `XGate`."
   ]
  },
  {
   "cell_type": "code",
   "execution_count": 5,
   "id": "421c6469-84e0-480a-91f9-8393c23c4a40",
   "metadata": {},
   "outputs": [
    {
     "data": {
      "text/html": [
       "<pre style=\"word-wrap: normal;white-space: pre;background: #fff0;line-height: 1.1;font-family: &quot;Courier New&quot;,Courier,monospace\">          ┌───┐     ┌─┐         \n",
       "qubits_0: ┤ X ├──■──┤M├─────────\n",
       "          ├───┤  │  └╥┘┌─┐      \n",
       "qubits_1: ┤ X ├──■───╫─┤M├──────\n",
       "          ├───┤  │   ║ └╥┘┌─┐   \n",
       "qubits_2: ┤ X ├──■───╫──╫─┤M├───\n",
       "          └───┘┌─┴─┐ ║  ║ └╥┘┌─┐\n",
       "qubits_3: ─────┤ X ├─╫──╫──╫─┤M├\n",
       "               └───┘ ║  ║  ║ └╥┘\n",
       "  bits: 4/═══════════╩══╩══╩══╩═\n",
       "                     0  1  2  3 </pre>"
      ],
      "text/plain": [
       "          ┌───┐     ┌─┐         \n",
       "qubits_0: ┤ X ├──■──┤M├─────────\n",
       "          ├───┤  │  └╥┘┌─┐      \n",
       "qubits_1: ┤ X ├──■───╫─┤M├──────\n",
       "          ├───┤  │   ║ └╥┘┌─┐   \n",
       "qubits_2: ┤ X ├──■───╫──╫─┤M├───\n",
       "          └───┘┌─┴─┐ ║  ║ └╥┘┌─┐\n",
       "qubits_3: ─────┤ X ├─╫──╫──╫─┤M├\n",
       "               └───┘ ║  ║  ║ └╥┘\n",
       "  bits: 4/═══════════╩══╩══╩══╩═\n",
       "                     0  1  2  3 "
      ]
     },
     "metadata": {},
     "output_type": "display_data"
    }
   ],
   "source": [
    "qr = QuantumRegister(4, 'qubits')\n",
    "cr = ClassicalRegister(4, 'bits')\n",
    "qc = QuantumCircuit(qr, cr)\n",
    "\n",
    "qc.x([0, 1, 2])\n",
    "qc.mct(qr[:3], qr[-1])\n",
    "qc.measure(qr, cr)\n",
    "display(qc.draw())\n",
    "\n",
    "job = execute(qc, Aer.get_backend('qasm_simulator'), shots=1000)\n",
    "counts = job.result().get_counts(qc)\n",
    "plot_histogram(counts)\n",
    "plt.show()"
   ]
  },
  {
   "cell_type": "markdown",
   "id": "6f806cfc-83e7-4282-ae7f-6ce2aede4d5a",
   "metadata": {},
   "source": [
    "## Simple increment"
   ]
  },
  {
   "cell_type": "code",
   "execution_count": 6,
   "id": "bc912dcd-1e71-4b63-87f3-4020eba30255",
   "metadata": {},
   "outputs": [
    {
     "data": {
      "text/html": [
       "<pre style=\"word-wrap: normal;white-space: pre;background: #fff0;line-height: 1.1;font-family: &quot;Courier New&quot;,Courier,monospace\">          ┌───┐ ░                ┌───┐ ░ ┌─┐         \n",
       "qubits_0: ┤ X ├─░───■────■────■──┤ X ├─░─┤M├─────────\n",
       "          └───┘ ░   │    │  ┌─┴─┐└───┘ ░ └╥┘┌─┐      \n",
       "qubits_1: ──────░───■────■──┤ X ├──────░──╫─┤M├──────\n",
       "          ┌───┐ ░   │  ┌─┴─┐└───┘      ░  ║ └╥┘┌─┐   \n",
       "qubits_2: ┤ X ├─░───■──┤ X ├───────────░──╫──╫─┤M├───\n",
       "          └───┘ ░ ┌─┴─┐└───┘           ░  ║  ║ └╥┘┌─┐\n",
       "qubits_3: ──────░─┤ X ├────────────────░──╫──╫──╫─┤M├\n",
       "                ░ └───┘                ░  ║  ║  ║ └╥┘\n",
       "  bits: 4/════════════════════════════════╩══╩══╩══╩═\n",
       "                                          0  1  2  3 </pre>"
      ],
      "text/plain": [
       "          ┌───┐ ░                ┌───┐ ░ ┌─┐         \n",
       "qubits_0: ┤ X ├─░───■────■────■──┤ X ├─░─┤M├─────────\n",
       "          └───┘ ░   │    │  ┌─┴─┐└───┘ ░ └╥┘┌─┐      \n",
       "qubits_1: ──────░───■────■──┤ X ├──────░──╫─┤M├──────\n",
       "          ┌───┐ ░   │  ┌─┴─┐└───┘      ░  ║ └╥┘┌─┐   \n",
       "qubits_2: ┤ X ├─░───■──┤ X ├───────────░──╫──╫─┤M├───\n",
       "          └───┘ ░ ┌─┴─┐└───┘           ░  ║  ║ └╥┘┌─┐\n",
       "qubits_3: ──────░─┤ X ├────────────────░──╫──╫──╫─┤M├\n",
       "                ░ └───┘                ░  ║  ║  ║ └╥┘\n",
       "  bits: 4/════════════════════════════════╩══╩══╩══╩═\n",
       "                                          0  1  2  3 "
      ]
     },
     "metadata": {},
     "output_type": "display_data"
    }
   ],
   "source": [
    "qr = QuantumRegister(4, 'qubits')\n",
    "cr = ClassicalRegister(4, 'bits')\n",
    "qc = QuantumCircuit(qr, cr)\n",
    "\n",
    "qc.x([0, 2])\n",
    "qc.barrier()\n",
    "\n",
    "################ YOUR CODE HERE #########################\n",
    "qc.mct([0, 1, 2], 3)\n",
    "qc.ccx(0, 1, 2)\n",
    "qc.cx(0, 1)\n",
    "qc.x(0)\n",
    "qc.barrier()\n",
    "qc.measure(qr, cr)\n",
    "display(qc.draw())\n",
    "\n",
    "job = execute(qc, Aer.get_backend('qasm_simulator'), shots=1000)\n",
    "counts = job.result().get_counts(qc)\n",
    "plot_histogram(counts)\n",
    "plt.show()"
   ]
  },
  {
   "cell_type": "markdown",
   "id": "6b51756e-338a-4931-bb1a-e66d466bb194",
   "metadata": {},
   "source": [
    "## What about increment of superposition?\n",
    "\n",
    "Prepare superposition of `-2` and `6` and apply increment to them.\n",
    "\n",
    "HINT: $\\frac{1}{\\sqrt{2}}(|0110\\rangle+|1110\\rangle)$. What's common?"
   ]
  },
  {
   "cell_type": "code",
   "execution_count": 7,
   "id": "6d81b169-8d33-4f50-a800-e2868cd2bab6",
   "metadata": {},
   "outputs": [
    {
     "data": {
      "text/html": [
       "<pre style=\"word-wrap: normal;white-space: pre;background: #fff0;line-height: 1.1;font-family: &quot;Courier New&quot;,Courier,monospace\">                ░                ┌───┐ ░ ┌─┐         \n",
       "qubits_0: ──────░───■────■────■──┤ X ├─░─┤M├─────────\n",
       "          ┌───┐ ░   │    │  ┌─┴─┐└───┘ ░ └╥┘┌─┐      \n",
       "qubits_1: ┤ X ├─░───■────■──┤ X ├──────░──╫─┤M├──────\n",
       "          ├───┤ ░   │  ┌─┴─┐└───┘      ░  ║ └╥┘┌─┐   \n",
       "qubits_2: ┤ X ├─░───■──┤ X ├───────────░──╫──╫─┤M├───\n",
       "          ├───┤ ░ ┌─┴─┐└───┘           ░  ║  ║ └╥┘┌─┐\n",
       "qubits_3: ┤ H ├─░─┤ X ├────────────────░──╫──╫──╫─┤M├\n",
       "          └───┘ ░ └───┘                ░  ║  ║  ║ └╥┘\n",
       "  bits: 4/════════════════════════════════╩══╩══╩══╩═\n",
       "                                          0  1  2  3 </pre>"
      ],
      "text/plain": [
       "                ░                ┌───┐ ░ ┌─┐         \n",
       "qubits_0: ──────░───■────■────■──┤ X ├─░─┤M├─────────\n",
       "          ┌───┐ ░   │    │  ┌─┴─┐└───┘ ░ └╥┘┌─┐      \n",
       "qubits_1: ┤ X ├─░───■────■──┤ X ├──────░──╫─┤M├──────\n",
       "          ├───┤ ░   │  ┌─┴─┐└───┘      ░  ║ └╥┘┌─┐   \n",
       "qubits_2: ┤ X ├─░───■──┤ X ├───────────░──╫──╫─┤M├───\n",
       "          ├───┤ ░ ┌─┴─┐└───┘           ░  ║  ║ └╥┘┌─┐\n",
       "qubits_3: ┤ H ├─░─┤ X ├────────────────░──╫──╫──╫─┤M├\n",
       "          └───┘ ░ └───┘                ░  ║  ║  ║ └╥┘\n",
       "  bits: 4/════════════════════════════════╩══╩══╩══╩═\n",
       "                                          0  1  2  3 "
      ]
     },
     "metadata": {},
     "output_type": "display_data"
    },
    {
     "data": {
      "image/png": "[encoded data removed]",
      "text/plain": [
       "<Figure size 504x360 with 1 Axes>"
      ]
     },
     "execution_count": 7,
     "metadata": {},
     "output_type": "execute_result"
    }
   ],
   "source": [
    "qr = QuantumRegister(4, 'qubits')\n",
    "cr = ClassicalRegister(4, 'bits')\n",
    "qc = QuantumCircuit(qr, cr)\n",
    "\n",
    "# middle\n",
    "qc.x([1, 2])\n",
    "qc.h(3)\n",
    "\n",
    "qc.barrier()\n",
    "\n",
    "qc.mct([0, 1, 2], 3)\n",
    "qc.ccx(0, 1, 2)\n",
    "qc.cx(0, 1)\n",
    "qc.x(0)\n",
    "\n",
    "\n",
    "qc.barrier()\n",
    "qc.measure(qr, cr)\n",
    "display(qc.draw())\n",
    "\n",
    "job = execute(qc, Aer.get_backend('qasm_simulator'), shots=1000)\n",
    "counts = job.result().get_counts(qc)\n",
    "plot_histogram(counts)\n"
   ]
  }
 ],
 "metadata": {
  "kernelspec": {
   "display_name": "Python [conda env:qiskit]",
   "language": "python",
   "name": "conda-env-qiskit-py"
  },
  "language_info": {
   "codemirror_mode": {
    "name": "ipython",
    "version": 3
   },
   "file_extension": ".py",
   "mimetype": "text/x-python",
   "name": "python",
   "nbconvert_exporter": "python",
   "pygments_lexer": "ipython3",
   "version": "3.9.6"
  }
 },
 "nbformat": 4,
 "nbformat_minor": 5
}
