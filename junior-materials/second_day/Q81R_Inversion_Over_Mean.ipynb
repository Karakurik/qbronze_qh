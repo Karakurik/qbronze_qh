{
 "cells": [
  {
   "cell_type": "markdown",
   "id": "e25fbb09-0180-4bc6-af6b-13697d54c4f6",
   "metadata": {},
   "source": [
    "Основано на:\n",
    "\n",
    "- [Inversion over mean](https://gitlab.com/qworld/bronze-qiskit/-/blob/master/quantum-with-qiskit/Q84_Inversion_About_the_Mean.ipynb) QBronze.\n",
    "- [Grover search](https://gitlab.com/qworld/bronze-qiskit/-/blob/master/quantum-with-qiskit/Q92_Grovers_Search_Implementation.ipynb) QBronze.\n",
    "- [Wiki](https://en.wikipedia.org/wiki/Grover%27s_algorithm)\n",
    "- [Qiskit tutorial](https://qiskit.org/textbook/ch-algorithms/grover.html)"
   ]
  },
  {
   "cell_type": "markdown",
   "id": "10114b96-d3ac-4f74-9b96-4a45e146de8a",
   "metadata": {},
   "source": [
    "# Диффузор Гровера :)\n",
    "\n",
    "У этого метода есть несколько названий. Он известен как \"итерация Гровера\" (Grover iteration), \"диффузор Гровера\" (Grover diffusor), \"усиление комплексной амплитуды\" (Amplitude Amplification, AA) или **\"обращение относительно среднего\"** (inversion/reflection over/about mean). Именно последнее название выражает математическую суть метода поиска помеченных объектов в неупорядоченном массиве. Его мы и разберём.\n",
    "\n",
    "Этот метод базируется на следующих идеях:\n",
    "1. Что произойдёт со средним значением массива чисел, если мы отразим относительно него все элементы массива?\n",
    "2. Насколько изменятся значения элементов массива, если среди них все, кроме одного, одинаковые? $[1, 1, 1, 1, 1, 1, 1, 1, 1, -1] \\rightarrow ?$ Насколько сильно изменится отличающееся значение?\n",
    "3. Как будет меняться ответ на второй вопрос, если отличающихся элементов будет становиться больше?\n",
    "4. И к применению этого метода, в комбинации с другими: что будет, если мы сможем поменять знак у отличающихся элементов на противоположный? Сможем ли мы получить существенное отличие в модуле числа?\n",
    "\n",
    "Попробуйте на бумаге выполнить следующие действия со массивом `[1, 1, 1, 1, 1]`.\n",
    "1. Обратите все значение относительно среднего.\n",
    "2. Измените знак 4-го элемента.\n",
    "3. Обратите все значение относительно среднего.\n",
    "\n",
    "## Демонстрация\n",
    "Давайте рассмотрим демонстрацию этих идей. Для этого:\n",
    "\n",
    "1. Реализуйте недостающие методы.\n",
    "2. Поменяйте $N$ чтобы понять, как оно влияет на результат."
   ]
  },
  {
   "cell_type": "code",
   "execution_count": null,
   "id": "227f6de7-4c07-415a-b88b-ff835c201905",
   "metadata": {},
   "outputs": [],
   "source": [
    "import random\n",
    "import numpy as np\n",
    "import matplotlib.pyplot as plt\n",
    "\n",
    "# 50 элементов в массиве, 100 итераций\n",
    "W, T = 50, 100\n",
    "\n",
    "# тут мы будем накапливать результат изменений. \n",
    "# i-й cтолбец нашего \"холста\" будет отражать состояние \n",
    "# массива чисел после i-го применения нашего метода.\n",
    "# на нулевой итерации там просто одинаковые значения\n",
    "canvas = np.ones((W, T)) / (W ** .5)\n",
    "\n",
    "# тут будет храниться информация о помеченных элементах\n",
    "# 0 будет стоять там, где элемент ничем не примечательный\n",
    "# а 1 -- там где он \"интересный\" и мы хотим его найти\n",
    "markers = np.zeros((W,))\n",
    "\n",
    "# число помеченных элементов\n",
    "N = 1\n",
    "\n",
    "# cгенерируем N случайным образом помеченных чисел\n",
    "for i in range(N):\n",
    "    markers[random.randrange(canvas.shape[0])] = 1\n",
    "    \n",
    "print(\"Массив markers:\", markers)"
   ]
  },
  {
   "cell_type": "code",
   "execution_count": null,
   "id": "3d1363f0-e12a-4ec9-ac6d-e79a52fa5a49",
   "metadata": {},
   "outputs": [],
   "source": [
    "def invert(markers, vec):\n",
    "    res = vec.copy()\n",
    "\n",
    "    # напишите функцию, которая меняет в массиве res\n",
    "    # знак элемента на противоположный\n",
    "    # если в массиве markers на этом месте стоит 1.\n",
    "\n",
    "    return res\n",
    "\n",
    "\n",
    "def reflect_over_mean(vec):\n",
    "    res = vec.copy()\n",
    "\n",
    "    # отразите все элементы массива res\n",
    "    # относительно среднего значения в массиве\n",
    "       \n",
    "    return res"
   ]
  },
  {
   "cell_type": "markdown",
   "id": "9ccf9f28-48cf-4c6c-84d2-ed24f0be6213",
   "metadata": {},
   "source": [
    "[решение](./Q81R_Inversion_Over_Mean_Solution.ipynb)"
   ]
  },
  {
   "cell_type": "markdown",
   "id": "f59827e8-dd71-46dd-a625-fb55fffe3041",
   "metadata": {},
   "source": [
    "Проведём 100 итерация и заполним наш \"холст\" состояниями массива после этих итераций."
   ]
  },
  {
   "cell_type": "code",
   "execution_count": null,
   "id": "7d0a9287-a173-416b-adb4-2aa62e4026d4",
   "metadata": {},
   "outputs": [],
   "source": [
    "for i in range(1, T):\n",
    "    inv = invert(markers, canvas[:, i-1])\n",
    "    ref = reflect_over_mean(inv)\n",
    "    canvas[:, i] = ref"
   ]
  },
  {
   "cell_type": "markdown",
   "id": "c146fd8a-496c-41af-9597-5d8ef62a1331",
   "metadata": {},
   "source": [
    "А теперь нарисуем картинку."
   ]
  },
  {
   "cell_type": "code",
   "execution_count": null,
   "id": "02e696f6-a27e-4746-b2f8-a2a8ae0b5834",
   "metadata": {},
   "outputs": [],
   "source": [
    "# зададим координатную сетку для 3D-графика\n",
    "_xx, _yy = np.meshgrid(np.arange(canvas.shape[1]), np.arange(canvas.shape[0]))\n",
    "\n",
    "# разделим её на x-ы и y-ки в отдельные массивы\n",
    "x, y = _xx.ravel(), _yy.ravel()\n",
    "\n",
    "# нарисуем в 3D\n",
    "heights = [canvas[j, i] for i, j in zip(x, y)]\n",
    "bottom = np.zeros_like(heights)\n",
    "fig = plt.figure(figsize=(20, 20))\n",
    "ax1 = fig.add_subplot(121, projection='3d')\n",
    "ax1.set_xlabel(\"итерации\")\n",
    "ax1.set_ylabel(\"индексы массива\")\n",
    "ax1.set_zlabel(\"значения\")\n",
    "ax1.bar3d(x, y, 0, 1, 1, heights, shade=True, alpha=.4, color='orange')\n",
    "plt.show() \n",
    "\n",
    "# и в 2D\n",
    "plt.figure(figsize=(15, 3))\n",
    "plt.imshow(canvas, cmap='gray')\n",
    "plt.xlabel(\"итерации\")\n",
    "plt.ylabel(\"индексы массива\")\n",
    "plt.show()"
   ]
  },
  {
   "cell_type": "markdown",
   "id": "dc1a06a8-e418-430a-8938-49957956ea7a",
   "metadata": {},
   "source": [
    "## Матричная форма операции обращения относительно среднего\n",
    "\n",
    "Итак, мы рассмотрели две важных функции, из которых, по сути, и состоит алгоритм Гровера. Нам осталось только найти их реализацию на квантовом копьютере. Здесь мы остановимся именно на отражении относительно среднего:\n",
    "\n",
    "Давайте выведем, как можно записать это отражение в виде умножения вектора (массива) на матрицу.\n",
    "\n",
    "Когда вы реализовывали функции, вы должны были заметить, что новое значение $i$-го элемента массива равно:\n",
    "\n",
    "$v'_i = 2\\bar{v} - v_i = 2\\bar{v} - 1*v_i$.\n",
    "\n",
    "Для всего массива (вектора) $v$ целиком мы можем записать это как:\n",
    "\n",
    "$v' = 2\\bar{v}\\mathbb{1} - v = 2*\\mathbb{1}\\bar{v} - Iv$.\n",
    "\n",
    "Кстати, что это за матрицы $\\mathbb{1}, I$?\n",
    "\n",
    "Давайте раскроем среднее значение и тоже запишем его в виде матричного произведения:\n",
    "\n",
    "$\\bar{v} = \\frac{1}{N}\\sum_i{v_i} = \\sum_i\\frac{1}{N}{v_i}= \\frac{1}{N}\\mathbb{1}^Tv$\n",
    "\n",
    "А теперь подставим это в формулу выше:\n",
    "\n",
    "$v' = 2\\frac{1}{N}\\mathbb{1}(\\mathbb{1}^Tv) - Iv = $\n",
    "\n",
    "$ = 2\\frac{1}{N}(\\mathbb{1}\\mathbb{1}^T)v - Iv = $\n",
    "\n",
    "$ = (2\\frac{1}{N}\\mathbb{E} - I)v$\n",
    "\n",
    "Итак, мы получили матрицу $(2\\frac{1}{N}\\mathbb{E} - I)$, не зависящую от значений переменных, на которую можно умножить любой вектор и получить тот же результат, что и в функции `reflect_over_mean(vec)`.\n",
    " \n",
    "## Как нам собрать такую матрицу из квантовых вентилей?"
   ]
  },
  {
   "cell_type": "code",
   "execution_count": null,
   "id": "007a1192-bc1d-4a15-8a6f-3febd7bdd176",
   "metadata": {},
   "outputs": [],
   "source": [
    "# матрица, которую мы хотим получить\n",
    "M = 2 * (1 / 4) * np.ones((4, 4)) - np.eye(4)\n",
    "\n",
    "# некоторые известные нам квантовые операторы\n",
    "# вентиль Адамара\n",
    "H = np.array([[1, 1], [1, -1]]) * (.5 ** .5)\n",
    "# отрицание\n",
    "X = np.array([[0, 1], [1, 0]])\n",
    "# контролируемое изменение фазы\n",
    "CZ = np.eye((4))\n",
    "CZ[-1, -1] = -1\n",
    "\n",
    "print(\"[H⊗H][X⊗X](CZ)[X⊗X][H⊗H]\")\n",
    "U = np.kron(H, H) @ np.kron(X, X) @ CZ @ np.kron(X, X) @ np.kron(H, H)\n",
    "print(U)\n",
    "U = -U\n",
    "print(\"-[H⊗H][X⊗X](CZ)[X⊗X][H⊗H]\")\n",
    "print(U)\n",
    "\n",
    "assert np.allclose(M, U)"
   ]
  },
  {
   "cell_type": "markdown",
   "id": "193ceebe-be8a-4acd-b56c-e3ae34c13f73",
   "metadata": {},
   "source": [
    "Повторим это в виде контура, и проверим, что матрицы совпадают."
   ]
  },
  {
   "cell_type": "code",
   "execution_count": null,
   "id": "b189c235-a280-4807-b973-d3efe9cb7926",
   "metadata": {},
   "outputs": [],
   "source": [
    "from qiskit import QuantumRegister, ClassicalRegister, QuantumCircuit, Aer, execute\n",
    "from qiskit.visualization import plot_histogram\n",
    "import matplotlib.pyplot as plt\n",
    "\n",
    "qc = QuantumCircuit(2)\n",
    "\n",
    "##################################################\n",
    "# Ваш код здесь. Не обращайте внимание на минус :)\n",
    "##################################################\n",
    "\n",
    "print(qc.draw())\n",
    "\n",
    "job = execute(qc, Aer.get_backend('unitary_simulator'))\n",
    "MX = job.result().get_unitary().real\n",
    "\n",
    "assert np.allclose(-MX, M)"
   ]
  },
  {
   "cell_type": "markdown",
   "id": "89c95c00-6bdc-4dda-b677-305828b7e787",
   "metadata": {},
   "source": [
    "[решение](./Q81R_Inversion_Over_Mean_Solution.ipynb)"
   ]
  }
 ],
 "metadata": {
  "kernelspec": {
   "display_name": "Python [conda env:qiskit]",
   "language": "python",
   "name": "conda-env-qiskit-py"
  },
  "language_info": {
   "codemirror_mode": {
    "name": "ipython",
    "version": 3
   },
   "file_extension": ".py",
   "mimetype": "text/x-python",
   "name": "python",
   "nbconvert_exporter": "python",
   "pygments_lexer": "ipython3",
   "version": "3.9.6"
  }
 },
 "nbformat": 4,
 "nbformat_minor": 5
}
