{
 "cells": [
  {
   "cell_type": "markdown",
   "metadata": {},
   "source": [
    "<a href=\"https://qworld.net\" target=\"_blank\" align=\"left\"><img src=\"../qworld/images/header.jpg\"  align=\"left\"></a>\n",
    "$ \\newcommand{\\bra}[1]{\\langle #1|} $\n",
    "$ \\newcommand{\\ket}[1]{|#1\\rangle} $\n",
    "$ \\newcommand{\\braket}[2]{\\langle #1|#2\\rangle} $\n",
    "$ \\newcommand{\\dot}[2]{ #1 \\cdot #2} $\n",
    "$ \\newcommand{\\biginner}[2]{\\left\\langle #1,#2\\right\\rangle} $\n",
    "$ \\newcommand{\\mymatrix}[2]{\\left( \\begin{array}{#1} #2\\end{array} \\right)} $\n",
    "$ \\newcommand{\\myvector}[1]{\\mymatrix{c}{#1}} $\n",
    "$ \\newcommand{\\myrvector}[1]{\\mymatrix{r}{#1}} $\n",
    "$ \\newcommand{\\mypar}[1]{\\left( #1 \\right)} $\n",
    "$ \\newcommand{\\mybigpar}[1]{ \\Big( #1 \\Big)} $\n",
    "$ \\newcommand{\\sqrttwo}{\\frac{1}{\\sqrt{2}}} $\n",
    "$ \\newcommand{\\dsqrttwo}{\\dfrac{1}{\\sqrt{2}}} $\n",
    "$ \\newcommand{\\onehalf}{\\frac{1}{2}} $\n",
    "$ \\newcommand{\\donehalf}{\\dfrac{1}{2}} $\n",
    "$ \\newcommand{\\hadamard}{ \\mymatrix{rr}{ \\sqrttwo & \\sqrttwo \\\\ \\sqrttwo & -\\sqrttwo }} $\n",
    "$ \\newcommand{\\vzero}{\\myvector{1\\\\0}} $\n",
    "$ \\newcommand{\\vone}{\\myvector{0\\\\1}} $\n",
    "$ \\newcommand{\\stateplus}{\\myvector{ \\sqrttwo \\\\  \\sqrttwo } } $\n",
    "$ \\newcommand{\\stateminus}{ \\myrvector{ \\sqrttwo \\\\ -\\sqrttwo } } $\n",
    "$ \\newcommand{\\myarray}[2]{ \\begin{array}{#1}#2\\end{array}} $\n",
    "$ \\newcommand{\\X}{ \\mymatrix{cc}{0 & 1 \\\\ 1 & 0}  } $\n",
    "$ \\newcommand{\\I}{ \\mymatrix{rr}{1 & 0 \\\\ 0 & 1}  } $\n",
    "$ \\newcommand{\\Z}{ \\mymatrix{rr}{1 & 0 \\\\ 0 & -1}  } $\n",
    "$ \\newcommand{\\Htwo}{ \\mymatrix{rrrr}{ \\frac{1}{2} & \\frac{1}{2} & \\frac{1}{2} & \\frac{1}{2} \\\\ \\frac{1}{2} & -\\frac{1}{2} & \\frac{1}{2} & -\\frac{1}{2} \\\\ \\frac{1}{2} & \\frac{1}{2} & -\\frac{1}{2} & -\\frac{1}{2} \\\\ \\frac{1}{2} & -\\frac{1}{2} & -\\frac{1}{2} & \\frac{1}{2} } } $\n",
    "$ \\newcommand{\\CNOT}{ \\mymatrix{cccc}{1 & 0 & 0 & 0 \\\\ 0 & 1 & 0 & 0 \\\\ 0 & 0 & 0 & 1 \\\\ 0 & 0 & 1 & 0} } $\n",
    "$ \\newcommand{\\norm}[1]{ \\left\\lVert #1 \\right\\rVert } $\n",
    "$ \\newcommand{\\pstate}[1]{ \\lceil \\mspace{-1mu} #1 \\mspace{-1.5mu} \\rfloor } $\n",
    "$ \\newcommand{\\greenbit}[1] {\\mathbf{{\\color{green}#1}}} $\n",
    "$ \\newcommand{\\bluebit}[1] {\\mathbf{{\\color{blue}#1}}} $\n",
    "$ \\newcommand{\\redbit}[1] {\\mathbf{{\\color{red}#1}}} $\n",
    "$ \\newcommand{\\brownbit}[1] {\\mathbf{{\\color{brown}#1}}} $\n",
    "$ \\newcommand{\\blackbit}[1] {\\mathbf{{\\color{black}#1}}} $"
   ]
  },
  {
   "cell_type": "markdown",
   "metadata": {},
   "source": [
    "<font style=\"font-size:28px;\" align=\"left\"><b><font color=\"blue\"> Векторы</b></font>\n",
    "<br>\n",
    "_prepared by Abuzer Yakaryilmaz, translated by QRussia_\n",
    "<br><br>"
   ]
  },
  {
   "cell_type": "markdown",
   "metadata": {},
   "source": [
    "<h3> Задание 1 </h3>\n",
    "\n",
    "Создайте два вектора $u$ и $v$ с 7 элементами, которые выбираются случайным образом между $-10$ и $10$.\n"
   ]
  },
  {
   "cell_type": "markdown",
   "metadata": {},
   "source": [
    "<h3>Решение</h3>"
   ]
  },
  {
   "cell_type": "code",
   "execution_count": null,
   "metadata": {},
   "outputs": [],
   "source": [
    "from random import randrange\n",
    "\n",
    "dimension = 7\n",
    "\n",
    "# создаем u и v как пустые массивы \n",
    "u = []\n",
    "v = []\n",
    "\n",
    "for i in range(dimension):\n",
    "    u.append(randrange(-10,11)) # добавляем в список случайное число\n",
    "    v.append(randrange(-10,11))\n",
    "\n",
    "# вывод векторов\n",
    "print(\"u:\",u)\n",
    "print(\"v:\",v)"
   ]
  },
  {
   "cell_type": "markdown",
   "metadata": {},
   "source": [
    "<h3> Задание 2 </h3>\n",
    "\n",
    "Используя те же векторы, найдите вектор $ (3 u-2 v) $ и выведите его элементы. Здесь $ 3u $ и $ 2v $ означает, что $u$ и $v$ умножаются на $3$ и $2$ соответственно."
   ]
  },
  {
   "cell_type": "markdown",
   "metadata": {},
   "source": [
    "<h3>Решение</h3>"
   ]
  },
  {
   "cell_type": "code",
   "execution_count": null,
   "metadata": {},
   "outputs": [],
   "source": [
    "# пожалуйста выполните задания 1, чтобы определить u и v\n",
    "\n",
    "# первый метод\n",
    "result=[]\n",
    "\n",
    "# заполняем нулями\n",
    "for i in range(dimension): \n",
    "    result.append(0)\n",
    "\n",
    "print(\"Результат первого метода:\",result)\n",
    "\n",
    "# второй метод\n",
    "# альтернативное решение\n",
    "result = [0] * 7 \n",
    "\n",
    "print(\"Результат второго метода: \",result)\n",
    "\n",
    "# вычисляем 3u-2v\n",
    "for i in range(dimension):\n",
    "    result[i] = 3 * u[i] - 2 * v[i]\n",
    "\n",
    "# print all lists\n",
    "print(\"u:\",u)\n",
    "print(\"v:\",v)\n",
    "print(\"3u-2v:\",result)"
   ]
  },
 {
   "cell_type": "markdown",
   "metadata": {},
   "source": [
    "<h3> Задание 3 </h3>\n",
    "\n",
    "Пусть $ u = \\myrvector{1 \\\\ -2 \\\\ -4 \\\\ 2} $ вектор с длиной 4.\n",
"\n",
"Проверьте, что $ \\norm{4 u} = 4 \\cdot \\norm{u} $.\n",
"\n",
    "Отметим, что $ 4u $ - это другой вектор, полученный из $ u $ умножением на 4."
   ]
  },
  {
   "cell_type": "markdown",
   "metadata": {},
   "source": [
    "<h3>Решение</h3>"
   ]
  },
  {
   "cell_type": "code",
   "execution_count": null,
   "metadata": {},
   "outputs": [],
   "source": [
    "u = [1,-2,-4,2]\n",
    "\n",
    "fouru=[4,-8,-16,8]\n",
    "\n",
    "len_u = 0\n",
    "len_fouru = 0\n",
    "for i in range(len(u)):\n",
    "    len_u = len_u + u[i]**2 # возведение в квадрат каждого значения\n",
    "    len_fouru = len_fouru + fouru[i]**2\n",
    "\n",
    "len_u = len_u ** 0.5 # извлечение квадратного корня\n",
    "len_fouru = len_fouru ** 0.5\n",
    "\n",
    "print(\"Длина u:\",len_u)\n",
    "print(\"4 * длина u:\",4 * len_u)\n",
    "print(\"длина 4u:\",len_fouru)"
   ]
  },
   {
   "cell_type": "markdown",
   "metadata": {},
   "source": [
    "<h3> Задание 4 </h3>\n",
    "\n",
    "Пусть $ u = \\myrvector{1 \\\\ -2 \\\\ -4 \\\\ 2} $ вектор с размером 4.\n",
    "\n",
    "Случайным обращом выберите число $r$ из $ \\left\\{ \\dfrac{1}{10}, \\dfrac{2}{10}, \\cdots, \\dfrac{9}{10} \\right\\} $.\n",
    "\n",
    "Найдите вектор $(-r)\\cdot u$ и его длину."
   ]
  },
  {
   "cell_type": "markdown",
   "metadata": {},
   "source": [
    "<h3>Решение</h3>"
   ]
  },
  {
   "cell_type": "code",
   "execution_count": null,
   "metadata": {},
   "outputs": [],
   "source": [
    "from random import randrange\n",
    "\n",
    "u = [1,-2,-4,2]\n",
    "\n",
    "print(\"u is\",u)\n",
    "\n",
    "r = randrange(9) # r is a number in {0,...,8}\n",
    "r = r + 1 # r is a number in {1,...,9}\n",
    "r = r/10 # r is a number in {1/10,...,9/10}\n",
    "\n",
    "print()\n",
    "print(\"r is\",r)\n",
    "\n",
    "newu=[]\n",
    "\n",
    "for i in range(len(u)):\n",
    "    newu.append(-1*r*u[i])\n",
    "\n",
    "print()   \n",
    "print(\"-ru is\",newu)\n",
    "print()\n",
    "\n",
    "length = 0\n",
    "\n",
    "for i in range(len(newu)):\n",
    "    length = length + newu[i]**2 # adding square of each number\n",
    "    print(newu[i],\"->[square]->\",newu[i]**2)\n",
    "    \n",
    "print()    \n",
    "print(\"the summation of squares is\",length)    \n",
    "length = length**0.5 # taking square root\n",
    "print(\"the length of\",newu,\"is\",length)"
   ]
  },
  {
   "cell_type": "markdown",
   "metadata": {},
   "source": [
    "Remark that:\n",
    "\n",
    "The length of $ u $ is 5.\n",
    "\n",
    "The length of $ (-r)u $ will be $ 5r $.  "
   ]
  }
 ],
 "metadata": {
  "kernelspec": {
   "display_name": "Python 3",
   "language": "python",
   "name": "python3"
  },
  "language_info": {
   "codemirror_mode": {
    "name": "ipython",
    "version": 3
   },
   "file_extension": ".py",
   "mimetype": "text/x-python",
   "name": "python",
   "nbconvert_exporter": "python",
   "pygments_lexer": "ipython3",
   "version": "3.7.1"
  }
 },
 "nbformat": 4,
 "nbformat_minor": 2
}
