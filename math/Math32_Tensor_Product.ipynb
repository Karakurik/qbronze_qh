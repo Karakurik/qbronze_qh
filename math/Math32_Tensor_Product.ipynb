{
 "cells": [
  {
   "cell_type": "markdown",
   "metadata": {},
   "source": [
    "<a href=\"https://qworld.net\" target=\"_blank\" align=\"left\"><img src=\"../qworld/images/header.jpg\"  align=\"left\"></a>\n",
    "$ \\newcommand{\\bra}[1]{\\langle #1|} $\n",
    "$ \\newcommand{\\ket}[1]{|#1\\rangle} $\n",
    "$ \\newcommand{\\braket}[2]{\\langle #1|#2\\rangle} $\n",
    "$ \\newcommand{\\dot}[2]{ #1 \\cdot #2} $\n",
    "$ \\newcommand{\\biginner}[2]{\\left\\langle #1,#2\\right\\rangle} $\n",
    "$ \\newcommand{\\mymatrix}[2]{\\left( \\begin{array}{#1} #2\\end{array} \\right)} $\n",
    "$ \\newcommand{\\myvector}[1]{\\mymatrix{c}{#1}} $\n",
    "$ \\newcommand{\\myrvector}[1]{\\mymatrix{r}{#1}} $\n",
    "$ \\newcommand{\\mypar}[1]{\\left( #1 \\right)} $\n",
    "$ \\newcommand{\\mybigpar}[1]{ \\Big( #1 \\Big)} $\n",
    "$ \\newcommand{\\sqrttwo}{\\frac{1}{\\sqrt{2}}} $\n",
    "$ \\newcommand{\\dsqrttwo}{\\dfrac{1}{\\sqrt{2}}} $\n",
    "$ \\newcommand{\\onehalf}{\\frac{1}{2}} $\n",
    "$ \\newcommand{\\donehalf}{\\dfrac{1}{2}} $\n",
    "$ \\newcommand{\\hadamard}{ \\mymatrix{rr}{ \\sqrttwo & \\sqrttwo \\\\ \\sqrttwo & -\\sqrttwo }} $\n",
    "$ \\newcommand{\\vzero}{\\myvector{1\\\\0}} $\n",
    "$ \\newcommand{\\vone}{\\myvector{0\\\\1}} $\n",
    "$ \\newcommand{\\stateplus}{\\myvector{ \\sqrttwo \\\\  \\sqrttwo } } $\n",
    "$ \\newcommand{\\stateminus}{ \\myrvector{ \\sqrttwo \\\\ -\\sqrttwo } } $\n",
    "$ \\newcommand{\\myarray}[2]{ \\begin{array}{#1}#2\\end{array}} $\n",
    "$ \\newcommand{\\X}{ \\mymatrix{cc}{0 & 1 \\\\ 1 & 0}  } $\n",
    "$ \\newcommand{\\I}{ \\mymatrix{rr}{1 & 0 \\\\ 0 & 1}  } $\n",
    "$ \\newcommand{\\Z}{ \\mymatrix{rr}{1 & 0 \\\\ 0 & -1}  } $\n",
    "$ \\newcommand{\\Htwo}{ \\mymatrix{rrrr}{ \\frac{1}{2} & \\frac{1}{2} & \\frac{1}{2} & \\frac{1}{2} \\\\ \\frac{1}{2} & -\\frac{1}{2} & \\frac{1}{2} & -\\frac{1}{2} \\\\ \\frac{1}{2} & \\frac{1}{2} & -\\frac{1}{2} & -\\frac{1}{2} \\\\ \\frac{1}{2} & -\\frac{1}{2} & -\\frac{1}{2} & \\frac{1}{2} } } $\n",
    "$ \\newcommand{\\CNOT}{ \\mymatrix{cccc}{1 & 0 & 0 & 0 \\\\ 0 & 1 & 0 & 0 \\\\ 0 & 0 & 0 & 1 \\\\ 0 & 0 & 1 & 0} } $\n",
    "$ \\newcommand{\\norm}[1]{ \\left\\lVert #1 \\right\\rVert } $\n",
    "$ \\newcommand{\\pstate}[1]{ \\lceil \\mspace{-1mu} #1 \\mspace{-1.5mu} \\rfloor } $\n",
    "$ \\newcommand{\\greenbit}[1] {\\mathbf{{\\color{green}#1}}} $\n",
    "$ \\newcommand{\\bluebit}[1] {\\mathbf{{\\color{blue}#1}}} $\n",
    "$ \\newcommand{\\redbit}[1] {\\mathbf{{\\color{red}#1}}} $\n",
    "$ \\newcommand{\\brownbit}[1] {\\mathbf{{\\color{brown}#1}}} $\n",
    "$ \\newcommand{\\blackbit}[1] {\\mathbf{{\\color{black}#1}}} $"
   ]
  },
  {
   "cell_type": "markdown",
   "metadata": {},
   "source": [
    "<font style=\"font-size:28px;\" align=\"left\"><b>Матрицы: Тензорное произведение</b></font>\n",
    "<br>\n",
    "_prepared by Abuzer Yakaryilmaz, translated by QRussia_\n",
    "<br><br>"
   ]
  },
  {
   "cell_type": "markdown",
   "metadata": {},
   "source": [
    "Тензорное произведение определяется между любыми двумя матрицами. В результате получается новая матрица, возможно, большего размера.\n",
    "\n",
    "Начнем с чего-то простого. Вектор - это тоже матрица, поэтому тензорное произведение может быть определено между двумя векторами или между вектором и матрицей.\n"
   ]
  },
  {
   "cell_type": "markdown",
   "metadata": {},
   "source": [
    "<h3> Тензорное произведение двух векторов </h3>\n",
    "\n",
    "Есть два вектора: $ u = \\myrvector{-2\\\\3} $ и $ v = \\myrvector{1 \\\\ 2 \\\\ -3} $.\n",
    "\n",
    "Тензорное произведение между $u$ и $ v $ будет равна $ u \\otimes v $.\n",
    "\n",
    "Мы можем рассматривать тензорное произведение как расширение $ u $ на $ v $:\n",
    "\n",
    "$$\n",
    "    u \\otimes v =  \\myrvector{-2\\\\3} \\otimes \\myrvector{1 \\\\ 2 \\\\ -3} =\n",
    "   \\myrvector{ -2 \\cdot  \\myrvector{1 \\\\ 2 \\\\ -3} \\\\ 3 \\cdot  \\myrvector{1 \\\\ 2 \\\\ -3} } =\n",
    "   \\myrvector{ -2 \\\\ -4 \\\\ 6 \\\\ 3 \\\\ 6 \\\\ -9 }.\n",
    "$$\n",
    "\n",
    "Здесь $ -2 $ в векторе $ u $ заменяется вектором $ (-2  v) $ и $ 3 $ в $ u $ заменяется вектором $ 3 v $.\n",
    "\n",
    "Таким образом, каждая запись в $ u $ заменяется вектором и размер вектора $ uv $ будет равна $ 6~(=2 \\cdot 3) $.\n",
    "\n",
    "Алгоритмически каждый элемент в $ u $ заменяется умножением этого элемента на вектор $ v $.\n",
    "\n",
    "Мы сможем найти $ v \\otimes u $ в Python."
   ]
  },
  {
   "cell_type": "code",
   "execution_count": null,
   "metadata": {},
   "outputs": [],
   "source": [
    "v = [1,2,-3]\n",
    "u=[-2,3]\n",
    "\n",
    "vu = []\n",
    "\n",
    "for i in range(len(v)):\n",
    "    for j in range(len(u)):\n",
    "        vu.append( v[i] * u[j] )\n",
    "\n",
    "print(\"v=\",v)\n",
    "print(\"u=\",u)\n",
    "print(\"vu=\",vu)"
   ]
  },
  {
   "cell_type": "markdown",
   "metadata": {},
   "source": [
    "<h3> Задание 1 </h3>\n",
    "\n",
    "Найдите $ u \\otimes v $ и $ v \\otimes u $ для векторов $ u = \\myrvector{-2 \\\\ -1 \\\\ 0 \\\\ 1} $ и $ v = \\myrvector{ 1 \\\\ 2 \\\\ 3 } $."
   ]
  },
  {
   "cell_type": "code",
   "execution_count": null,
   "metadata": {},
   "outputs": [],
   "source": [
    "#\n",
    "# ваше решение\n",
    "#\n"
   ]
  },
  {
   "cell_type": "markdown",
   "metadata": {},
   "source": [
    "<a href=\"Math32_Tensor_Product_Solutions.ipynb#task1\">Наше решение</a>"
   ]
  },
  {
   "cell_type": "markdown",
   "metadata": {},
   "source": [
    "<h3> Примечание:</h3>\n",
    "\n",
    "Тензорные произведения полезны, когда мы имеем систему, состоящую из двух (или более) подсистем. \n",
    "\n",
    "Тензороное произведение будет не раз использоваться в нашем учебном пособии."
   ]
  },
  {
   "cell_type": "markdown",
   "metadata": {},
   "source": [
    "<h3> Тензорное произведение двух матриц </h3>\n",
    "\n",
    "Операция идентичная, найдем $ M \\otimes N $ и $ N \\otimes M $ для матриц\n",
    "$\n",
    "    M = \\mymatrix{rrr}{-1 & 0 & 1 \\\\ -2 & -1 & 2 \\\\ 1 & 2 & -2} ~~\\mbox{и}~~ \n",
    "    N = \\mymatrix{rrr}{0 & 2 & 1 \\\\ 3 & -1 & -2 \\\\ -1 & 1 & 0}.\n",
    "$\n",
    "\n",
    "$ M \\otimes N $: Each element of $ M $ will be replaced with the whole matrix $ N $ after multiplying with this element.\n",
    "\n",
    "$$\n",
    "    M \\otimes N =\n",
    "    \\mymatrix{rrr}{-1 & 0 & 1 \\\\ -2 & -1 & 2 \\\\ 1 & 2 & -2} \\otimes \\mymatrix{rrr}{0 & 2 & 1 \\\\ 3 & -1 & -2 \\\\ -1 & 1 & 0}\n",
    "    =\n",
    "    \\mymatrix{rrr}{ -1 \\mymatrix{rrr}{0 & 2 & 1 \\\\ 3 & -1 & -2 \\\\ -1 & 1 & 0} & 0 \\mymatrix{rrr}{0 & 2 & 1 \\\\ 3 & -1 & -2 \\\\ -1 & 1 & 0} & 1 \\mymatrix{rrr}{0 & 2 & 1 \\\\ 3 & -1 & -2 \\\\ -1 & 1 & 0} \\\\\n",
    "    -2 \\mymatrix{rrr}{0 & 2 & 1 \\\\ 3 & -1 & -2 \\\\ -1 & 1 & 0} & -1 \\mymatrix{rrr}{0 & 2 & 1 \\\\ 3 & -1 & -2 \\\\ -1 & 1 & 0} & 2 \\mymatrix{rrr}{0 & 2 & 1 \\\\ 3 & -1 & -2 \\\\ -1 & 1 & 0} \\\\\n",
    "    1 \\mymatrix{rrr}{0 & 2 & 1 \\\\ 3 & -1 & -2 \\\\ -1 & 1 & 0} & 2 \\mymatrix{rrr}{0 & 2 & 1 \\\\ 3 & -1 & -2 \\\\ -1 & 1 & 0} & -2 \\mymatrix{rrr}{0 & 2 & 1 \\\\ 3 & -1 & -2 \\\\ -1 & 1 & 0}}\n",
    "$$\n",
    "\n",
    "Calculating by hand looks a boring task because of many repetitions. \n",
    "\n",
    "We do this once by hand (in mind), and then check the result by Python."
   ]
  },
  {
   "cell_type": "markdown",
   "metadata": {},
   "source": [
    "$$\n",
    "    M \\otimes N = \\mymatrix{rrrrrrrrr}{\n",
    "        0 & -2 & -1 & 0 & 0 & 0 & 0 & 2 & 1 \\\\\n",
    "        -3 & 1 & 2 & 0 & 0 & 0 & 3 & -1 & -2 \\\\\n",
    "        1 & -1 & 0 & 0 & 0 & 0 & -1 & 1 & 0 \\\\\n",
    "        0 & -4 & -2 & 0 & -2 & -1 & 0 & 4 & 2 \\\\\n",
    "        -6 & 2 & 4 & -3 & 1 & 2 & 6 & -2 & -4 \\\\\n",
    "        2 & -2 & 0 & 1 & -1 & 0 & -2 & 2 & 0 \\\\\n",
    "        0 & 2 & 1 & 0 & 4 & 2 & 0 &  -4 & -2 \\\\\n",
    "        3 & -1 & -2 & 6 & -2 & -4 & -6 & 2 & 4 \\\\\n",
    "        -1 & 1 & 0 & -2 & 2 & 0 & 2 & -2 & 0\n",
    "    }\n",
    "$$\n",
    "\n",
    "Now, we find the same matrix in Python.\n",
    "\n",
    "This time we use four nested for-loops."
   ]
  },
  {
   "cell_type": "code",
   "execution_count": null,
   "metadata": {},
   "outputs": [],
   "source": [
    "M = [ \n",
    "    [-1,0,1],\n",
    "    [-2,-1,2],\n",
    "    [1,2,-2]\n",
    "]\n",
    "\n",
    "N = [\n",
    "    [0,2,1],\n",
    "    [3,-1,-2],\n",
    "    [-1,1,0]\n",
    "]\n",
    "\n",
    "# MN будет (9x9)-мерной матрицей\n",
    "# подготовим ее как матрицу заполненную нулями (это облегчит нам решение этой задачи)\n",
    "MN=[]\n",
    "for i in range(9):\n",
    "    MN.append([])\n",
    "    for j in range(9):\n",
    "        MN[i].append(0)\n",
    "\n",
    "for i in range(3): # строка M\n",
    "    for j in range(3): # столбец M\n",
    "        for k in range(3): # строка N\n",
    "            for l in range(3): # столбец N\n",
    "                MN[i*3+k][3*j+l] = M[i][j] * N[k][l] \n",
    "\n",
    "print(\"Тензорное произведение M и N равно\")\n",
    "for i in range(9):\n",
    "    print(MN[i])"
   ]
  },
  {
   "cell_type": "markdown",
   "metadata": {},
   "source": [
    "\n",
    "Найдем $ N \\otimes M $, используя тот же код, меняя местами $ N $ и $ M $."
   ]
  },
  {
   "cell_type": "code",
   "execution_count": null,
   "metadata": {},
   "outputs": [],
   "source": [
    "# Матрицы M и N были определены выше\n",
    "\n",
    "NM=[]\n",
    "for i in range(9):\n",
    "    NM.append([])\n",
    "    for j in range(9):\n",
    "        NM[i].append(0)\n",
    "\n",
    "for i in range(3): # строка N\n",
    "    for j in range(3): # столбец N\n",
    "        for k in range(3): # строка M\n",
    "            for l in range(3): # столбец M\n",
    "                NM[i*3+k][3*j+l] = N[i][j] * M[k][l] \n",
    "\n",
    "print(\"Тензорное произведение N и M равно\")\n",
    "for i in range(9):\n",
    "    print(NM[i])"
   ]
  },
  {
   "cell_type": "markdown",
   "metadata": {},
   "source": [
    "<h3> Задание 2 </h3>\n",
    "\n",
    "Найдите $ A \\otimes B $ для матриц\n",
    "$\n",
    "    A = \\mymatrix{rrr}{-1 & 0 & 1 \\\\ -2 & -1 & 2} ~~\\mbox{и}~~ \n",
    "    B = \\mymatrix{rr}{0 & 2 \\\\ 3 & -1 \\\\ -1 & 1 }.\n",
    "$"
   ]
  },
  {
   "cell_type": "code",
   "execution_count": null,
   "metadata": {},
   "outputs": [],
   "source": [
    "#\n",
    "# ваше решение\n",
    "#\n"
   ]
  },
  {
   "cell_type": "markdown",
   "metadata": {},
   "source": [
    "<a href=\"Math32_Tensor_Product_Solutions.ipynb#task2\">Наше решение</a>"
   ]
  },
  {
   "cell_type": "markdown",
   "metadata": {},
   "source": [
    "<h3> Задание 3 </h3>\n",
    "\n",
    "Найдите $ B \\otimes A $ для матриц\n",
    "$\n",
    "    A = \\mymatrix{rrr}{-1 & 0 & 1 \\\\ -2 & -1 & 2} ~~\\mbox{и}~~ \n",
    "    B = \\mymatrix{rr}{0 & 2 \\\\ 3 & -1 \\\\ -1 & 1 }.\n",
    "$\n",
    "\n",
    "Для решения этого задания вы можете использовать код из второго задания.\n",
    "\n",
    "Но будьте осторожны с индексами и значениями диапазона, а также с тем, как они меняются местами"
   ]
  },
  {
   "cell_type": "code",
   "execution_count": null,
   "metadata": {},
   "outputs": [],
   "source": [
    "#\n",
    "# ваше решение\n",
    "#\n"
   ]
  },
  {
   "cell_type": "markdown",
   "metadata": {},
   "source": [
    "<a href=\"Math32_Tensor_Product_Solutions.ipynb#task3\">Наше решение</a>"
   ]
  }
 ],
 "metadata": {
  "kernelspec": {
   "display_name": "Python 3 (ipykernel)",
   "language": "python",
   "name": "python3"
  },
  "language_info": {
   "codemirror_mode": {
    "name": "ipython",
    "version": 3
   },
   "file_extension": ".py",
   "mimetype": "text/x-python",
   "name": "python",
   "nbconvert_exporter": "python",
   "pygments_lexer": "ipython3",
   "version": "3.7.1"
  }
 },
 "nbformat": 4,
 "nbformat_minor": 2
}
