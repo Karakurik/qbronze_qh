{
 "cells": [
  {
   "cell_type": "markdown",
   "metadata": {},
   "source": [
    "<table> <tr>\n",
    "        <td  style=\"background-color:#ffffff;\"><a href=\"http://qworld.lu.lv/\" target=\"_blank\"><img src=\"../images/header.jpg\"  align=\"left\"></a></td>\n",
    "</tr></table>"
   ]
  },
  {
   "cell_type": "markdown",
   "metadata": {},
   "source": [
    "<table width=\"100%\"><tr><td style=\"color:#bbbbbb;background-color:#ffffff;font-size:11px;font-style:italic;text-align:right;\">This cell contains some macros. If there is a problem with displaying mathematical formulas, please run this cell to load these macros. </td></tr></table>\n",
    "$ \\newcommand{\\bra}[1]{\\langle #1|} $\n",
    "$ \\newcommand{\\ket}[1]{|#1\\rangle} $\n",
    "$ \\newcommand{\\braket}[2]{\\langle #1|#2\\rangle} $\n",
    "$ \\newcommand{\\dot}[2]{ #1 \\cdot #2} $\n",
    "$ \\newcommand{\\biginner}[2]{\\left\\langle #1,#2\\right\\rangle} $\n",
    "$ \\newcommand{\\mymatrix}[2]{\\left( \\begin{array}{#1} #2\\end{array} \\right)} $\n",
    "$ \\newcommand{\\myvector}[1]{\\mymatrix{c}{#1}} $\n",
    "$ \\newcommand{\\myrvector}[1]{\\mymatrix{r}{#1}} $\n",
    "$ \\newcommand{\\mypar}[1]{\\left( #1 \\right)} $\n",
    "$ \\newcommand{\\mybigpar}[1]{ \\Big( #1 \\Big)} $\n",
    "$ \\newcommand{\\sqrttwo}{\\frac{1}{\\sqrt{2}}} $\n",
    "$ \\newcommand{\\dsqrttwo}{\\dfrac{1}{\\sqrt{2}}} $\n",
    "$ \\newcommand{\\onehalf}{\\frac{1}{2}} $\n",
    "$ \\newcommand{\\donehalf}{\\dfrac{1}{2}} $\n",
    "$ \\newcommand{\\hadamard}{ \\mymatrix{rr}{ \\sqrttwo & \\sqrttwo \\\\ \\sqrttwo & -\\sqrttwo }} $\n",
    "$ \\newcommand{\\vzero}{\\myvector{1\\\\0}} $\n",
    "$ \\newcommand{\\vone}{\\myvector{0\\\\1}} $\n",
    "$ \\newcommand{\\vhadamardzero}{\\myvector{ \\sqrttwo \\\\  \\sqrttwo } } $\n",
    "$ \\newcommand{\\vhadamardone}{ \\myrvector{ \\sqrttwo \\\\ -\\sqrttwo } } $\n",
    "$ \\newcommand{\\myarray}[2]{ \\begin{array}{#1}#2\\end{array}} $\n",
    "$ \\newcommand{\\X}{ \\mymatrix{cc}{0 & 1 \\\\ 1 & 0}  } $\n",
    "$ \\newcommand{\\Z}{ \\mymatrix{rr}{1 & 0 \\\\ 0 & -1}  } $\n",
    "$ \\newcommand{\\Htwo}{ \\mymatrix{rrrr}{ \\frac{1}{2} & \\frac{1}{2} & \\frac{1}{2} & \\frac{1}{2} \\\\ \\frac{1}{2} & -\\frac{1}{2} & \\frac{1}{2} & -\\frac{1}{2} \\\\ \\frac{1}{2} & \\frac{1}{2} & -\\frac{1}{2} & -\\frac{1}{2} \\\\ \\frac{1}{2} & -\\frac{1}{2} & -\\frac{1}{2} & \\frac{1}{2} } } $\n",
    "$ \\newcommand{\\CNOT}{ \\mymatrix{cccc}{1 & 0 & 0 & 0 \\\\ 0 & 1 & 0 & 0 \\\\ 0 & 0 & 0 & 1 \\\\ 0 & 0 & 1 & 0} } $\n",
    "$ \\newcommand{\\norm}[1]{ \\left\\lVert #1 \\right\\rVert } $\n",
    "$ \\newcommand{\\pstate}[1]{ \\lceil \\mspace{-1mu} #1 \\mspace{-1.5mu} \\rfloor } $"
   ]
  },
  {
   "cell_type": "markdown",
   "metadata": {},
   "source": [
    "## Установка и тестирование Qiskit\n",
    "\n",
    "Этот ноутбук состоит из следующих частей: <a href=\"#intro\">Введение</a>, <a href=\"#install\">Установка Qiskit</a>, <a href=\"#check\">Проверка версии Qiskit</a>, и <a href=\"#example\">Выполнение простой программы<a>."
   ]
  },
  {
   "cell_type": "markdown",
   "metadata": {},
   "source": [
    "<hr id=\"intro\">\n",
    "\n",
    "### Введение\n",
    "\n",
    "7 ноября, 2024:\n",
    " \n",
    "<font color=\"blue\">Наш материал хорошо работает с **Qiskit версии 0.45.3**</font>. <font color=\"red\">_На других версиях могут быть некоторые проблемы_</font>.\n",
    "\n",
    "_Обновите вашу систему до начала работы с материалом, если в вашей системе установлена другая версия Qiskit_\n",
    "\n",
    "Проверьте систему, если Qiskit уже установлен:"
   ]
  },
  {
   "cell_type": "code",
   "execution_count": null,
   "metadata": {},
   "outputs": [],
   "source": [
    "import qiskit\n",
    "versions = qiskit.__qiskit_version__\n",
    "print(\"The version of Qiskit is\",versions['qiskit'])\n",
    "print()\n",
    "print(\"The version of each component:\")\n",
    "for key in versions:\n",
    "    print(key,\"->\",versions[key])"
   ]
  },
  {
   "cell_type": "markdown",
   "metadata": {},
   "source": [
    "<hr id=\"install\">\n",
    "\n",
    "### Установка Qiskit\n",
    "\n",
    "#### Опытные пользователи\n",
    "\n",
    "Посетите следующие ссылки:\n",
    "\n",
    "https://github.com/Qiskit/qiskit-tutorials/blob/master/INSTALL.md\n",
    "\n",
    "https://pypi.org/project/qiskit/0.45.0/"
   ]
  },
  {
   "cell_type": "markdown",
   "metadata": {},
   "source": [
    "#### Для начинающих\n",
    "\n",
    "откройте терминал <a href=\"/terminals/ambainis\">нажатием сюда</a> (или зайдите в [dashboard](http://localhost:8888), и откройте новый терминал использую меню \"new\" справа)"
   ]
  },
  {
   "cell_type": "markdown",
   "metadata": {},
   "source": [
    "_**Удалите Qiskit** из вашей системы при необходимости:_\n",
    "    \n",
    "    pip uninstall qiskit"
   ]
  },
  {
   "cell_type": "markdown",
   "metadata": {},
   "source": [
    "_**Обновите Qiskit** в вашей системе:_\n",
    "    \n",
    "    pip install -U qiskit==0.45.3\n",
    "    \n",
    "or\n",
    "\n",
    "    pip install -U qiskit==0.45.3 --user"
   ]
  },
  {
   "cell_type": "markdown",
   "metadata": {},
   "source": [
    "_**Установка Qiskit**:_\n",
    "    \n",
    "    pip install qiskit==0.45.3\n",
    "    \n",
    "or    \n",
    "\n",
    "    pip install qiskit==0.45.3 --user"
   ]
  },
  {
   "cell_type": "markdown",
   "metadata": {},
   "source": [
    "__*Перезапустите ядро*__ (элемент \"Kernel\" в меню) для применения изменений для текущем ноутбука."
   ]
  },
  {
   "cell_type": "markdown",
   "metadata": {},
   "source": [
    "<hr id=\"check\">\n",
    "\n",
    "### Проверьте версию Qiskit\n",
    "\n",
    "Проверьте систему, если Qiskit уже установлен:"
   ]
  },
  {
   "cell_type": "code",
   "execution_count": 1,
   "metadata": {},
   "outputs": [
    {
     "name": "stdout",
     "output_type": "stream",
     "text": [
      "The version of Qiskit is 0.45.3\n",
      "\n",
      "The version of each component:\n",
      "qiskit -> 0.45.3\n",
      "qiskit-aer -> 0.13.1\n",
      "qiskit-ignis -> None\n",
      "qiskit-ibmq-provider -> None\n",
      "qiskit-nature -> None\n",
      "qiskit-finance -> None\n",
      "qiskit-optimization -> None\n",
      "qiskit-machine-learning -> None\n"
     ]
    },
    {
     "name": "stderr",
     "output_type": "stream",
     "text": [
      "/var/folders/t5/5_sj08dx3l591bdlz68r71040000gn/T/ipykernel_89998/1034370658.py:3: DeprecationWarning: qiskit.__qiskit_version__ is deprecated since Qiskit Terra 0.25.0, and will be removed 3 months or more later. Instead, you should use qiskit.__version__. The other packages listed in theformer qiskit.__qiskit_version__ have their own __version__ module level dunder, as standard in PEP 8.\n",
      "  print(\"The version of Qiskit is\",versions['qiskit'])\n"
     ]
    }
   ],
   "source": [
    "import qiskit\n",
    "versions = qiskit.__qiskit_version__\n",
    "print(\"The version of Qiskit is\",versions['qiskit'])\n",
    "print()\n",
    "print(\"The version of each component:\")\n",
    "for key in versions:\n",
    "    print(key,\"->\",versions[key])\n",
    "    "
   ]
  },
  {
   "cell_type": "markdown",
   "metadata": {},
   "source": [
    "<hr id=\"example\">\n",
    "\n",
    "### Выполнение простой программы\n"
   ]
  },
  {
   "cell_type": "markdown",
   "metadata": {},
   "source": [
    "1) Создание квантовой схемы"
   ]
  },
  {
   "cell_type": "code",
   "execution_count": 2,
   "metadata": {},
   "outputs": [
    {
     "name": "stdout",
     "output_type": "stream",
     "text": [
      "The execution of the cell was completed, and the circuit was created :)\n"
     ]
    }
   ],
   "source": [
    "# import the objects from qiskit\n",
    "from qiskit import QuantumRegister, ClassicalRegister, QuantumCircuit, execute, Aer\n",
    "from random import randrange\n",
    "\n",
    "# create a quantum circuit and its register objects\n",
    "qreg = QuantumRegister(2) # quantum register with two quantum bits\n",
    "creg = ClassicalRegister(2) # classical register with two classical bit\n",
    "circuit = QuantumCircuit(qreg,creg) # quantum circuit composed by a quantum register and a classical register\n",
    "\n",
    "# apply a Hadamard gate to the first qubit\n",
    "circuit.h(qreg[0])\n",
    "\n",
    "# set the second qubit to state |1>\n",
    "circuit.x(qreg[1])\n",
    "\n",
    "# apply CNOT(first_qubit,second_qubit)\n",
    "circuit.cx(qreg[0],qreg[1])\n",
    "\n",
    "# measure the both qubits\n",
    "circuit.measure(qreg,creg)\n",
    "\n",
    "print(\"The execution of the cell was completed, and the circuit was created :)\")"
   ]
  },
  {
   "cell_type": "markdown",
   "metadata": {},
   "source": [
    "2) Рисование схемы\n",
    "\n",
    "_Попробуйте запустить блок кода несколько раз, если рисунок не появился_"
   ]
  },
  {
   "cell_type": "code",
   "execution_count": 3,
   "metadata": {},
   "outputs": [
    {
     "name": "stderr",
     "output_type": "stream",
     "text": [
      "/usr/local/lib/python3.11/site-packages/qiskit/visualization/circuit/matplotlib.py:266: FutureWarning: The default matplotlib drawer scheme will be changed to \"iqp\" in a following release. To silence this warning, specify the current default explicitly as style=\"clifford\", or the new default as style=\"iqp\".\n",
      "  self._style, def_font_ratio = load_style(self._style)\n"
     ]
    },
    {
     "data": {
      "image/png": "[encoded data removed]",
      "text/plain": [
       "<Figure size 472.747x284.278 with 1 Axes>"
      ]
     },
     "execution_count": 3,
     "metadata": {},
     "output_type": "execute_result"
    }
   ],
   "source": [
    "# draw circuit \n",
    "circuit.draw(output='mpl')\n",
    "\n",
    "# the output will be a \"matplotlib.Figure\" object"
   ]
  },
  {
   "cell_type": "markdown",
   "metadata": {},
   "source": [
    "3) Выполнение схемы 1024 раза на локальном симуляторе и вывод наблюдаемого результата"
   ]
  },
  {
   "cell_type": "code",
   "execution_count": 4,
   "metadata": {},
   "outputs": [
    {
     "name": "stdout",
     "output_type": "stream",
     "text": [
      "{'01': 501, '10': 523}\n"
     ]
    }
   ],
   "source": [
    "## execute the circuit 1024 times\n",
    "job = execute(circuit,Aer.get_backend('qasm_simulator'),shots=1024)\n",
    "# get the result\n",
    "counts = job.result().get_counts(circuit)\n",
    "print(counts)"
   ]
  }
 ],
 "metadata": {
  "kernelspec": {
   "display_name": "Python 3 (ipykernel)",
   "language": "python",
   "name": "python3"
  },
  "language_info": {
   "codemirror_mode": {
    "name": "ipython",
    "version": 3
   },
   "file_extension": ".py",
   "mimetype": "text/x-python",
   "name": "python",
   "nbconvert_exporter": "python",
   "pygments_lexer": "ipython3",
   "version": "3.11.6"
  }
 },
 "nbformat": 4,
 "nbformat_minor": 4
}
