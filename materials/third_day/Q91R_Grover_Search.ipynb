{
 "cells": [
  {
   "cell_type": "markdown",
   "id": "a5c0ef9f-9cd6-4c31-b48d-8775a87eaa21",
   "metadata": {},
   "source": [
    "# Алгоритм Гровера\n",
    "\n",
    "Предположен, нам дана функция $F:X\\rightarrow \\{0, 1\\}$. \n",
    "\n",
    "Если существует только один единственный аргумент $x\\in X$, для которого $F(x)=1$, то на классическом компьютере нам потребуется $\\mathcal{O}(|X|)$ проверок, чтобы найти его. То есть в худшем случае мы просмотрим все зачения $x$ из $X$, и искомое будет последним в нашем переборе. Даже если таких аргументов больше -- поиск хотя бы одного из них тоже будет занимать линейное время.\n",
    "\n",
    "В квантовых системах мы можем таким образом определить функцию $\\tilde{F}$, чтобы она помечала искомые аргументы с помощью фазового множителя (-1). Вспомним, что в квантовых системах функции можно вызывать для суперпозиции [всех] аргументов. Поэтому, если мы вызовем $\\tilde{F}(H^{\\otimes N})$, то в получившейся суперпозиции все состояния, которые не удовлетворяют функции, будут иметь амплитуду $+1*\\frac{1}{\\sqrt{2^N}}$, а те, которые удовлетворяют -- $-1*\\frac{1}{\\sqrt{2^N}}$.\n",
    "\n",
    "Когда мы помечаем аргументы знаком минус, мы делаем ровно то, что делали а функции `inverse()` в задании про обращение относительно среднего.\n",
    "\n",
    "Используя специально подготовленную $\\tilde{F}$, мы сможем найти искомый $x$ за $\\mathcal{O}(\\sqrt{|X|})$. И даже если их несколько -- то какой-то из них.\n",
    "\n",
    "Основные шаги алгоритма:\n",
    "1. Делаем из обычного оракула фазовый\n",
    "2. Имлементируем диффузор Гровера\n",
    "3. Определяемся с количеством итераций алгоритма. Повторяем.\n",
    "\n",
    "Начнём в первого пункта.\n",
    "\n",
    "## Фазовый оракул\n",
    "\n",
    "## Constructing the Gorver Oracle\n",
    "\n",
    "Детали этого метода описаны в материале [qiskit texbook](https://qiskit.org/textbook/ch-algorithms/grover.html). Там показана идея, как сконвертировать \"классическую\" функцию оракула $F$ в функцию нужного нам (фазового) вида. Механизм, на которые опирается этот метод -- *Phase Kickback*.\n",
    "\n",
    "Напомним, что **Phase Kickback** изменяет фазу у амплитуды **контролирующего** кубита или даже регистра, если управляемый кубит находится в собственном состоянии котролируемого оператора.\n",
    "\n",
    "В случаем с оракулом, предполагаемся, что вы можете представить его в таком виде:\n",
    "\n",
    "![](https://qiskit.org/textbook/ch-algorithms/images/grover_boolean_oracle.svg)\n",
    "\n",
    "Собственные векторы и значения оператора $X$ нам уже хорошо известны. Поэтому мы заготовим $|-\\rangle$ в управляемом кубите... и забудем про него.\n",
    "\n",
    "![](https://qiskit.org/textbook/ch-algorithms/images/grover_phase_oracle.svg)"
   ]
  },
  {
   "cell_type": "markdown",
   "id": "6c3e9bfa-6fb3-4a71-9b05-f556f710a034",
   "metadata": {},
   "source": [
    "Давайте сконвертируем уже знакомый нам по форме оракул.\n",
    "\n",
    "```\n",
    "if (|x> >= 6) { \n",
    "    |y> = X|y> \n",
    "}\n",
    "```\n",
    "\n",
    "в фазовый вид. \n",
    "Для начала напишем его полностью:"
   ]
  },
  {
   "cell_type": "code",
   "execution_count": 23,
   "id": "dd52200b-ec0f-4981-9f93-b47d80584b9c",
   "metadata": {},
   "outputs": [],
   "source": [
    "from qiskit import QuantumRegister, ClassicalRegister, QuantumCircuit\n",
    "from qiskit.visualization import plot_histogram\n",
    "from qiskit import execute, BasicAer\n",
    "\n",
    "def get_oracle():\n",
    "    x = QuantumRegister(4, 'x')\n",
    "    y = QuantumRegister(1, 'y')\n",
    "    qc = QuantumCircuit(x, y, name=\"oracle\")\n",
    "    \n",
    "    #######\n",
    "    ## x -= 4 \n",
    "\n",
    "    #################################\n",
    "    ##\n",
    "    ## допишите код, который вычитает 4\n",
    "    ## подсказка: посмотрите на код, который\n",
    "    ## прибавляет 4 :)\n",
    "    ##\n",
    "    #################################\n",
    "    \n",
    "    ## x -= 2\n",
    "    qc.x(x[1])\n",
    "    qc.cx(x[1], x[2])\n",
    "    qc.ccx(x[1], x[2], x[3])\n",
    "\n",
    "    qc.x(x[3])\n",
    "    qc.cx(x[3], y[0])\n",
    "    qc.x(x[3])\n",
    "    \n",
    "    ## x += 2\n",
    "    qc.ccx(x[1], x[2], x[3])\n",
    "    qc.cx(x[1], x[2])\n",
    "    qc.x(x[1])\n",
    "    \n",
    "    ## x += 4 \n",
    "    qc.cx(x[2], x[3])\n",
    "    qc.x(x[2])\n",
    "    \n",
    "    return qc"
   ]
  },
  {
   "cell_type": "markdown",
   "id": "0a5fcc86-edc9-47ab-ba53-dded31f49a01",
   "metadata": {},
   "source": [
    "[решение](./Q91R_Grover_Search_Solution.ipynb)"
   ]
  },
  {
   "cell_type": "markdown",
   "id": "f92f03f7-fa84-4948-be5c-69741b83f3fa",
   "metadata": {},
   "source": [
    "Проверим, что он работает \"классически\"."
   ]
  },
  {
   "cell_type": "code",
   "execution_count": null,
   "id": "9ebaf633-dd42-494f-bc20-4e211782cb71",
   "metadata": {},
   "outputs": [],
   "source": [
    "qc = QuantumCircuit(5)\n",
    "qc.h(range(3))\n",
    "qc.append(get_oracle(), range(5))\n",
    "qc.measure_all()\n",
    "\n",
    "job = execute(qc, BasicAer.get_backend('qasm_simulator'), shots=100)\n",
    "counts = job.result().get_counts(qc)\n",
    "plot_histogram(counts)"
   ]
  },
  {
   "cell_type": "markdown",
   "id": "b1858906-4cfd-4248-93d6-b94fb0c5b6eb",
   "metadata": {},
   "source": [
    "А теперь проверим, как это выглядит в фазовой форме:"
   ]
  },
  {
   "cell_type": "code",
   "execution_count": null,
   "id": "35689ce7-55c1-45d4-9a0d-3a00e1751886",
   "metadata": {},
   "outputs": [],
   "source": [
    "import numpy as np\n",
    "\n",
    "qc = QuantumCircuit(5)\n",
    "qc.h(range(3))\n",
    "\n",
    "# подготовим управляемые кубит в |->\n",
    "qc.x(4)\n",
    "qc.h(4)\n",
    "\n",
    "qc.append(get_oracle(), range(5))\n",
    "\n",
    "# вернём его в 0\n",
    "qc.h(4)\n",
    "qc.x(4)\n",
    "\n",
    "\n",
    "job = execute(qc, BasicAer.get_backend('statevector_simulator'))\n",
    "vector = job.result().get_statevector()\n",
    "\n",
    "print(np.round_(vector.real, 4))"
   ]
  },
  {
   "cell_type": "markdown",
   "id": "960ffc1f-1fc0-4722-a926-9a7f16100ad6",
   "metadata": {},
   "source": [
    "## Количество итерация\n",
    "\n",
    "Ранее мы видели, что обращение относительно среднего даёт нам периодическую функцию. На пике этой функции можной поймать самую \"выгодную\" разницу между всеми элементами, и \"помеченными\". Но как поймать такой пик?\n",
    "\n",
    "Если в списке из $ N $ элементов (=квантовых состояний) помечен всего один (=одно квантовое состояние), тогда помеченный элемент (состояние) будет иметь наибольшую амплитуду после $ \\pi \\dfrac{\\sqrt{N}}{4} $ итераций алгоритма Гровера.\n",
    "\n",
    "Если же помечены $k$ элементов, тогда оптимальные значения достигаются после $ \\pi \\dfrac{\\sqrt{\\frac{N}{k}}}{4} $ повторений.\n",
    "\n",
    "Если же $k$ неизвестно, то нам придётся его подбирать. Один из способов это сделать -- запустить алгоритм  $ \\pi \\dfrac{\\sqrt{\\frac{N}{1}}}{4}, \\pi \\dfrac{\\sqrt{\\frac{N}{2}}}{4}, \\pi \\dfrac{\\sqrt{\\frac{N}{4}}}{4}, \\pi \\dfrac{\\sqrt{\\frac{N}{8}}}{4}, \\ldots $ раз. \n",
    "\n",
    "И даже в этом случае число повторений алгоритма будет пропорционально $ \\pi \\dfrac{\\sqrt{N}}{4} $: $ O \\Big( \\pi \\dfrac{\\sqrt{N}}{4} \\Big) $. А значит, он асимптотически быстрее, чем метод простого перебора.\n",
    "\n",
    "Давайте, наконец, реализуем это в виде алгоритма, и запустим на настоящем квантовом компьютере!\n",
    "\n",
    "## Полная имплементация алгоритма Гровера"
   ]
  },
  {
   "cell_type": "code",
   "execution_count": null,
   "id": "da8ef8b7-4ee6-4ec1-a441-5e563c320889",
   "metadata": {},
   "outputs": [],
   "source": [
    "from qiskit import QuantumRegister, ClassicalRegister, QuantumCircuit\n",
    "from qiskit.visualization import plot_histogram\n",
    "from qiskit import execute, BasicAer"
   ]
  },
  {
   "cell_type": "code",
   "execution_count": 29,
   "id": "eed388d0-11b4-42d5-b36c-cd24f1e110a5",
   "metadata": {},
   "outputs": [
    {
     "name": "stdout",
     "output_type": "stream",
     "text": [
      "        ┌───┐┌───┐   ┌───┐┌───┐\n",
      "q335_0: ┤ H ├┤ X ├─■─┤ X ├┤ H ├\n",
      "        ├───┤├───┤ │ ├───┤├───┤\n",
      "q335_1: ┤ H ├┤ X ├─■─┤ X ├┤ H ├\n",
      "        ├───┤├───┤ │ ├───┤├───┤\n",
      "q335_2: ┤ H ├┤ X ├─■─┤ X ├┤ H ├\n",
      "        └───┘└───┘   └───┘└───┘\n"
     ]
    }
   ],
   "source": [
    "from qiskit.circuit.library import ZGate\n",
    "ccz = ZGate().control(2)\n",
    "\n",
    "def get_diffusor():\n",
    "    qdiff = QuantumRegister(3)\n",
    "    diffusor = QuantumCircuit(qdiff, name=\"IoM\")\n",
    "    diffusor.h(qdiff)\n",
    "    diffusor.x(qdiff)\n",
    "    diffusor.append(ccz, qdiff)\n",
    "    diffusor.x(qdiff)\n",
    "    diffusor.h(qdiff)\n",
    "    return diffusor\n",
    "\n",
    "print(get_diffusor())"
   ]
  },
  {
   "cell_type": "code",
   "execution_count": null,
   "id": "3da70b63-5c9b-4a48-a03a-899eb2ac03b2",
   "metadata": {},
   "outputs": [],
   "source": [
    "data = QuantumRegister(3, name=\"data\")\n",
    "sign = QuantumRegister(1, name=\"sign\")\n",
    "ancilla = QuantumRegister(1, name=\"ancilla\")\n",
    "result = ClassicalRegister(3, name=\"result\")\n",
    "qc = QuantumCircuit(data, sign, ancilla, result)\n",
    "\n",
    "oracle = get_oracle()\n",
    "diffusor = get_diffusor()\n",
    "\n",
    "# подготовим суперпозицию неотрицательных чисел 0..7\n",
    "qc.h(data)\n",
    "\n",
    "# подготовим |-> во вспомогательном кубите\n",
    "qc.x(ancilla)\n",
    "qc.h(ancilla)\n",
    "\n",
    "qc.barrier()\n",
    "\n",
    "# сколько нам нужно итераций?\n",
    "k = 2\n",
    "N = 2 ** 3\n",
    "\n",
    "###############################################################\n",
    "## напишите тут формулу, по которой вычисляется число операций\n",
    "###############################################################\n",
    "N_ITERATIONS = ... \n",
    "\n",
    "N_ITERATIONS = int(N_ITERATIONS)\n",
    "print(\"Итераций:\", N_ITERATIONS)\n",
    "\n",
    "for i in range(N_ITERATIONS):\n",
    "    # добавим оракула\n",
    "    qc.append(oracle, data[:] + sign[:] + ancilla[:])\n",
    "    qc.barrier()\n",
    "    # добавим обращение относительно среднго\n",
    "    qc.append(diffusor, data)\n",
    "    qc.barrier()\n",
    "\n",
    "qc.measure(data, result)\n",
    "qc.draw()"
   ]
  },
  {
   "cell_type": "markdown",
   "id": "47fa3aa3-0168-45af-a6b1-4660819074a9",
   "metadata": {},
   "source": [
    "[решение](./Q91R_Grover_Search_Solution.ipynb)"
   ]
  },
  {
   "cell_type": "code",
   "execution_count": null,
   "id": "878a350f-25c7-4bc3-8fa3-8f13d32e0303",
   "metadata": {},
   "outputs": [],
   "source": [
    "job = execute(qc, BasicAer.get_backend('qasm_simulator'), shots=100)\n",
    "counts = job.result().get_counts(qc)\n",
    "plot_histogram(counts)"
   ]
  },
  {
   "cell_type": "markdown",
   "id": "3a54f105-5926-4392-ab2b-8b84932b8107",
   "metadata": {},
   "source": [
    "## Давайте обсудим результат\n",
    "1. Как проинтерпретировать этот результат?\n",
    "2. Сколько на самом деле простейших действий мы сделали?\n",
    "3. Сколько раз мы запустили квантовую программу?\n",
    "4. Что будет если запустить её всего один раз?"
   ]
  },
  {
   "cell_type": "code",
   "execution_count": null,
   "id": "9867b4ed-6f82-484e-bea5-6f2ffeaf1afb",
   "metadata": {},
   "outputs": [],
   "source": [
    "from qiskit.compiler import transpile\n",
    "# запустите строчку, чтобы увидеть, какие на самом деле примитивные\n",
    "# операции совершал симулятор:\n",
    "\n",
    "qct = transpile(qc, BasicAer.get_backend('qasm_simulator'))\n",
    "print(\"Глубина (depth) контура:\", qct.depth())\n",
    "qct.draw(output='mpl')"
   ]
  },
  {
   "cell_type": "markdown",
   "id": "70eb45ec-667c-40e9-b7b2-ab4df28cbd8e",
   "metadata": {},
   "source": [
    "## ... и наконец запустим на настоящем квантовом компьютере!\n",
    "\n",
    "Если вы ещё этого не сделали - зайдите на https://quantum-computing.ibm.com/account, зарегистрируйтесь и получите токен."
   ]
  },
  {
   "cell_type": "code",
   "execution_count": 56,
   "id": "1706c2ad-9259-4209-ba51-dd24b3aa53e0",
   "metadata": {},
   "outputs": [
    {
     "name": "stderr",
     "output_type": "stream",
     "text": [
      "ibmqfactory.load_account:WARNING:2021-12-03 12:56:24,415: Credentials are already in use. The existing account in the session will be replaced.\n"
     ]
    },
    {
     "name": "stdout",
     "output_type": "stream",
     "text": [
      "32 Qubits ibmq_qasm_simulator has a queue=9\n",
      "1 Qubits ibmq_armonk has a queue=1\n",
      "5 Qubits ibmq_santiago has a queue=1948\n",
      "5 Qubits ibmq_bogota has a queue=16\n",
      "5 Qubits ibmq_lima has a queue=20\n",
      "5 Qubits ibmq_belem has a queue=12\n",
      "5 Qubits ibmq_quito has a queue=20\n",
      "5 Qubits ibmq_manila has a queue=34\n"
     ]
    }
   ],
   "source": [
    "from qiskit import IBMQ\n",
    "# если запускаете первый раз - подставьте токен, если не первый - можно убрать эту строку\n",
    "# IBMQ.save_account(\"TOKEN\")\n",
    "\n",
    "IBMQ.load_account()\n",
    "provider = IBMQ.get_provider('ibm-q')\n",
    "\n",
    "available_cloud_backends = provider.backends() \n",
    "for backend in available_cloud_backends:\n",
    "    status = backend.status()\n",
    "    nqubits = backend.configuration().n_qubits\n",
    "    is_operational = status.operational\n",
    "    jobs_in_queue = status.pending_jobs\n",
    "    if is_operational and 'ibmq_' in str(backend):\n",
    "        print(f\"{nqubits} Qubits {backend} has a queue={jobs_in_queue}\")"
   ]
  },
  {
   "cell_type": "markdown",
   "id": "4bf5e895-4d52-4078-b9b1-603df278f998",
   "metadata": {},
   "source": [
    "Выберите наименее загуженный 5-кубитный компьютер. Когда я запускал этот код, это был `ibmq_belem`."
   ]
  },
  {
   "cell_type": "code",
   "execution_count": null,
   "id": "f998889a-26ab-48fa-9d69-f1ba9f4d282f",
   "metadata": {},
   "outputs": [],
   "source": [
    "backend = provider.get_backend('ibmq_belem')\n",
    "# как будет выглядеть наша программа на этом компьютере?\n",
    "qct = transpile(qc, backend)\n",
    "print(qct.depth())\n",
    "qct.draw(output='mpl')"
   ]
  },
  {
   "cell_type": "code",
   "execution_count": null,
   "id": "2ff7007a-22d2-4f22-962f-28b74ba03577",
   "metadata": {},
   "outputs": [],
   "source": [
    "# запускаем транспилированную (!) задачу на компьютере. \n",
    "# Она будет проверена и поставлена в очередь.\n",
    "job = backend.run(qct)\n",
    "\n",
    "from qiskit.tools.monitor import job_monitor\n",
    "# монитор будет дожидаться успешного статуса\n",
    "job_monitor(job)\n",
    "\n",
    "print(job.status())\n",
    "\n",
    "# покажем гистограмму!\n",
    "counts = job.result().get_counts()\n",
    "plot_histogram(counts)"
   ]
  }
 ],
 "metadata": {
  "kernelspec": {
   "display_name": "Python [conda env:qiskit]",
   "language": "python",
   "name": "conda-env-qiskit-py"
  },
  "language_info": {
   "codemirror_mode": {
    "name": "ipython",
    "version": 3
   },
   "file_extension": ".py",
   "mimetype": "text/x-python",
   "name": "python",
   "nbconvert_exporter": "python",
   "pygments_lexer": "ipython3",
   "version": "3.9.6"
  }
 },
 "nbformat": 4,
 "nbformat_minor": 5
}
