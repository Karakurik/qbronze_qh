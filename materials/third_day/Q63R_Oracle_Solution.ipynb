{
 "cells": [
  {
   "cell_type": "markdown",
   "id": "7b46af6f-23d4-4105-ba75-0535f1905947",
   "metadata": {},
   "source": [
    "# Условный оператор `if` в форме оракула.\n",
    "\n",
    "Для первой задачи вы напишете код для реализации\n",
    "\n",
    "```\n",
    "if (|x> < 0) {\n",
    "    |y> = NOT|y>;\n",
    "}\n",
    "```\n",
    "\n",
    "В форме двоичного оракула.\n",
    "\n",
    "Оракулом называют функцию от 2 регистров: $|x\\rangle$ аргумента и $|y\\rangle$ результата. Поскольку на квантовые функции накладыается много ограничений, то придумали делать вот так:\n",
    "\n",
    "\n",
    "![](https://qiskit.org/textbook/ch-algorithms/images/grover_boolean_oracle.svg)\n",
    "\n",
    "Предполагается, что входное значение $|x\\rangle$ не меняется, а выходное -- это `xor` от изначального значения $|y\\rangle$ и результата вычисления функции $f(x)$. Поэтому очень удобно делать отмену вычислений: примените оракул ещё раз, и вы получите исходное состояние для всех регистров:\n",
    "\n",
    "$$\n",
    "Oracle|x\\rangle|y\\rangle = |x\\rangle|y\\oplus f(x)\\rangle\n",
    "\\\\\n",
    "Oracle|x\\rangle|y\\oplus f(x)\\rangle = |x\\rangle|y\\oplus f(x)\\oplus f(x)\\rangle\\rangle=|x\\rangle|y\\rangle\n",
    "$$\n",
    "\n",
    "\n",
    "В нашей задаче строчка $|y\\rangle = NOT|y\\rangle$ как раз и вычисляет $|y\\oplus f(x)\\rangle$. Если $f(x)=1$, то значение $|y\\rangle$ меняется на противоположное. То есть, то что мы с вами будет реализовывать и есть хороший оракул!\n",
    "\n",
    "Как же нам реализовать условие? Очень просто, если мы вспомним про то, как работает дополнение до 2! В нём старший (ку)бит является индикатором знака. Если он равен 1, тогда число -- отрицательно. Напишите код, который применяет отрицание к регистру $|y\\rangle$ если старший кубит нашего числа равен 1."
   ]
  },
  {
   "cell_type": "code",
   "execution_count": 1,
   "id": "2f72a9d9-df8c-40e1-855b-c77e22b5c16e",
   "metadata": {},
   "outputs": [],
   "source": [
    "from qiskit import QuantumRegister, ClassicalRegister, QuantumCircuit\n",
    "from qiskit.visualization import plot_histogram\n",
    "from qiskit import execute, BasicAer\n",
    "import matplotlib.pyplot as plt"
   ]
  },
  {
   "cell_type": "code",
   "execution_count": 2,
   "id": "719f3984-775e-4b68-a65f-66054e729bbe",
   "metadata": {},
   "outputs": [],
   "source": [
    "x = QuantumRegister(4, 'x')\n",
    "y = QuantumRegister(1, 'y')\n",
    "cr = ClassicalRegister(5, 'c')\n",
    "qc = QuantumCircuit(x, y, cr)"
   ]
  },
  {
   "cell_type": "code",
   "execution_count": 3,
   "id": "e2e0349a-e202-418f-8f1c-d7d01c73617b",
   "metadata": {},
   "outputs": [
    {
     "data": {
      "text/html": [
       "<pre style=\"word-wrap: normal;white-space: pre;background: #fff0;line-height: 1.1;font-family: &quot;Courier New&quot;,Courier,monospace\">            ┌───┐        ░       ░ ┌─┐            \n",
       "x_0: ───────┤ X ├────────░───────░─┤M├────────────\n",
       "            └───┘        ░       ░ └╥┘┌─┐         \n",
       "x_1: ────────────────────░───────░──╫─┤M├─────────\n",
       "            ┌───┐        ░       ░  ║ └╥┘┌─┐      \n",
       "x_2: ───────┤ X ├────────░───────░──╫──╫─┤M├──────\n",
       "            └───┘        ░       ░  ║  ║ └╥┘┌─┐   \n",
       "x_3: ────────────────────░───■───░──╫──╫──╫─┤M├───\n",
       "     ┌─────────────────┐ ░ ┌─┴─┐ ░  ║  ║  ║ └╥┘┌─┐\n",
       "y_0: ┤ Initialize(1,0) ├─░─┤ X ├─░──╫──╫──╫──╫─┤M├\n",
       "     └─────────────────┘ ░ └───┘ ░  ║  ║  ║  ║ └╥┘\n",
       "c: 5/═══════════════════════════════╩══╩══╩══╩══╩═\n",
       "                                    0  1  2  3  4 </pre>"
      ],
      "text/plain": [
       "            ┌───┐        ░       ░ ┌─┐            \n",
       "x_0: ───────┤ X ├────────░───────░─┤M├────────────\n",
       "            └───┘        ░       ░ └╥┘┌─┐         \n",
       "x_1: ────────────────────░───────░──╫─┤M├─────────\n",
       "            ┌───┐        ░       ░  ║ └╥┘┌─┐      \n",
       "x_2: ───────┤ X ├────────░───────░──╫──╫─┤M├──────\n",
       "            └───┘        ░       ░  ║  ║ └╥┘┌─┐   \n",
       "x_3: ────────────────────░───■───░──╫──╫──╫─┤M├───\n",
       "     ┌─────────────────┐ ░ ┌─┴─┐ ░  ║  ║  ║ └╥┘┌─┐\n",
       "y_0: ┤ Initialize(1,0) ├─░─┤ X ├─░──╫──╫──╫──╫─┤M├\n",
       "     └─────────────────┘ ░ └───┘ ░  ║  ║  ║  ║ └╥┘\n",
       "c: 5/═══════════════════════════════╩══╩══╩══╩══╩═\n",
       "                                    0  1  2  3  4 "
      ]
     },
     "execution_count": 3,
     "metadata": {},
     "output_type": "execute_result"
    }
   ],
   "source": [
    "# инициализируем x в 0101 = 5\n",
    "# попробуйте самостоятельно заменить x = -5. Какая будет двоичная запись? Какой будет результат измерений\n",
    "\n",
    "qc.x([x[0], x[2]])\n",
    "# или \n",
    "# qc.initialize([0, 0, 0, 0, 0, 1, 0, 0, 0, 0, 0, 0, 0, 0, 0, 0], x)\n",
    "\n",
    "# ничего, или\n",
    "qc.initialize([1, 0], y)\n",
    "qc.barrier()\n",
    "\n",
    "# напишите здесь код, выполняет if (x[3] == 1) {y = NOT y}.\n",
    "qc.cnot(x[-1], y[0])\n",
    "\n",
    "qc.barrier()\n",
    "qc.measure(x[:] + y[:], cr)\n",
    "qc.draw()"
   ]
  },
  {
   "cell_type": "code",
   "execution_count": 4,
   "id": "d587a060-6848-4b17-8385-cc5af71f02f5",
   "metadata": {},
   "outputs": [
    {
     "data": {
      "image/png": "[encoded data removed]",
      "text/plain": [
       "<Figure size 504x360 with 1 Axes>"
      ]
     },
     "execution_count": 4,
     "metadata": {},
     "output_type": "execute_result"
    }
   ],
   "source": [
    "job = execute(qc, BasicAer.get_backend('qasm_simulator'), shots=10000)\n",
    "counts = job.result().get_counts(qc)\n",
    "\n",
    "counts_sep = {}\n",
    "for key in counts:\n",
    "    counts_sep[f\"{key[0]}  {key[1:]}\"] = counts[key]\n",
    "plot_histogram(counts_sep)"
   ]
  },
  {
   "cell_type": "markdown",
   "id": "b5d59ba0-f865-485b-a16a-9b4ff78cc783",
   "metadata": {},
   "source": [
    "## Усложним задачу  \n",
    "\n",
    "```\n",
    "if (|x> >= 3) {\n",
    "    |y> = NOT|y>;\n",
    "}\n",
    "```\n",
    "\n",
    "Что изменилось?\n",
    "- поменялся знак сравнения.\n",
    "- поменялась константа.\n",
    "\n",
    "Как быть со знаком?"
   ]
  },
  {
   "cell_type": "code",
   "execution_count": 5,
   "id": "5ea46620-2213-4706-9277-9e6fa02f74c1",
   "metadata": {},
   "outputs": [
    {
     "data": {
      "text/html": [
       "<pre style=\"word-wrap: normal;white-space: pre;background: #fff0;line-height: 1.1;font-family: &quot;Courier New&quot;,Courier,monospace\">     ┌───┐     ┌───┐\n",
       "q_0: ┤ X ├──■──┤ X ├\n",
       "     └───┘┌─┴─┐└───┘\n",
       "q_1: ─────┤ X ├─────\n",
       "          └───┘     </pre>"
      ],
      "text/plain": [
       "     ┌───┐     ┌───┐\n",
       "q_0: ┤ X ├──■──┤ X ├\n",
       "     └───┘┌─┴─┐└───┘\n",
       "q_1: ─────┤ X ├─────\n",
       "          └───┘     "
      ]
     },
     "execution_count": 5,
     "metadata": {},
     "output_type": "execute_result"
    }
   ],
   "source": [
    "qc = QuantumCircuit(2)\n",
    "\n",
    "# если 0 - будет 1\n",
    "qc.x(0)\n",
    "\n",
    "# контролируем\n",
    "qc.cx(0, 1)\n",
    "\n",
    "# отменяем вычисления!\n",
    "qc.x(0)\n",
    "\n",
    "qc.draw()"
   ]
  },
  {
   "cell_type": "markdown",
   "id": "157ad96d-f72e-4dfc-b9da-a3085b37f90b",
   "metadata": {},
   "source": [
    "а как быть с константой? Очень просто!\n",
    "\n",
    "$x \\ge 3$ это то же самое, что и $x - 3 \\ge 0$.\n",
    "\n",
    "- `a -= 3`.\n",
    "- контролирующие действия.\n",
    "- `a += 3` - отмена вычислений (вернём регистр в исходное состояние)."
   ]
  },
  {
   "cell_type": "markdown",
   "id": "25995820-c2ac-41a8-9cc5-5d8c0f7b8570",
   "metadata": {},
   "source": [
    "## Давайте соберём всё вместе\n",
    "\n",
    "- Вычтем 3 из $|x\\rangle$\n",
    "- Отрицание $|x\\rangle$[3]\n",
    "- контролируемое отрицание `if (|x>[3] == 1) { |y> = X|y> }`\n",
    "- Отрицание $|x\\rangle$[3] (отмена вычислений)\n",
    "- Прибавим 3 к $|x\\rangle$ (отмена вычислений)\n",
    "\n",
    "А теперь напишите этот код :)"
   ]
  },
  {
   "cell_type": "code",
   "execution_count": 6,
   "id": "a1a20fe2-f4d3-46cf-87c2-183c7e4c3539",
   "metadata": {},
   "outputs": [],
   "source": [
    "from qiskit import QuantumRegister, ClassicalRegister, QuantumCircuit\n",
    "from qiskit.visualization import plot_histogram\n",
    "from qiskit import execute, BasicAer"
   ]
  },
  {
   "cell_type": "code",
   "execution_count": 7,
   "id": "464ab3ac-dcdb-4833-982f-f7e97e3d1404",
   "metadata": {},
   "outputs": [],
   "source": [
    "x = QuantumRegister(4, 'x')\n",
    "y = QuantumRegister(1, 'y')\n",
    "cr = ClassicalRegister(5, 'c')\n",
    "qc = QuantumCircuit(x, y, cr)"
   ]
  },
  {
   "cell_type": "markdown",
   "id": "e8aafa28-627f-4d55-97c8-48cb58fb8fd4",
   "metadata": {},
   "source": [
    "### `x-=3`"
   ]
  },
  {
   "cell_type": "code",
   "execution_count": 8,
   "id": "0f3ac844-2e6e-4963-9bb1-d9884e7df8b6",
   "metadata": {},
   "outputs": [
    {
     "data": {
      "text/html": [
       "<pre style=\"word-wrap: normal;white-space: pre;background: #fff0;line-height: 1.1;font-family: &quot;Courier New&quot;,Courier,monospace\">                     ░ ┌───┐                ░ \n",
       "x_0: ────────────────░─┤ X ├──■────■────■───░─\n",
       "     ┌───┐           ░ └───┘┌─┴─┐  │    │   ░ \n",
       "x_1: ┤ X ├──■────■───░──────┤ X ├──■────■───░─\n",
       "     └───┘┌─┴─┐  │   ░      └───┘┌─┴─┐  │   ░ \n",
       "x_2: ─────┤ X ├──■───░───────────┤ X ├──■───░─\n",
       "          └───┘┌─┴─┐ ░           └───┘┌─┴─┐ ░ \n",
       "x_3: ──────────┤ X ├─░────────────────┤ X ├─░─\n",
       "               └───┘ ░                └───┘ ░ \n",
       "y_0: ────────────────░──────────────────────░─\n",
       "                     ░                      ░ \n",
       "c: 5/═════════════════════════════════════════\n",
       "                                              </pre>"
      ],
      "text/plain": [
       "                     ░ ┌───┐                ░ \n",
       "x_0: ────────────────░─┤ X ├──■────■────■───░─\n",
       "     ┌───┐           ░ └───┘┌─┴─┐  │    │   ░ \n",
       "x_1: ┤ X ├──■────■───░──────┤ X ├──■────■───░─\n",
       "     └───┘┌─┴─┐  │   ░      └───┘┌─┴─┐  │   ░ \n",
       "x_2: ─────┤ X ├──■───░───────────┤ X ├──■───░─\n",
       "          └───┘┌─┴─┐ ░           └───┘┌─┴─┐ ░ \n",
       "x_3: ──────────┤ X ├─░────────────────┤ X ├─░─\n",
       "               └───┘ ░                └───┘ ░ \n",
       "y_0: ────────────────░──────────────────────░─\n",
       "                     ░                      ░ \n",
       "c: 5/═════════════════════════════════════════\n",
       "                                              "
      ]
     },
     "execution_count": 8,
     "metadata": {},
     "output_type": "execute_result"
    }
   ],
   "source": [
    "# -= 2\n",
    "qc.x(x[1])\n",
    "qc.cx(x[1], x[2])\n",
    "qc.ccx(x[1], x[2], x[3])\n",
    "qc.barrier()\n",
    "# -= 1\n",
    "qc.x(x[0])\n",
    "qc.cx(x[0], x[1])\n",
    "qc.ccx(x[0], x[1], x[2])\n",
    "qc.mct(x[:3], x[3])\n",
    "\n",
    "qc.barrier()\n",
    "qc.draw()"
   ]
  },
  {
   "cell_type": "markdown",
   "id": "8e8aa9c2-45e2-4475-8d22-d5c696989751",
   "metadata": {
    "tags": []
   },
   "source": [
    "### `if (x[3] == 0) y = ~y`"
   ]
  },
  {
   "cell_type": "code",
   "execution_count": 9,
   "id": "aa9e2a73-2c25-474a-9164-738c751f9c22",
   "metadata": {},
   "outputs": [
    {
     "data": {
      "text/html": [
       "<pre style=\"word-wrap: normal;white-space: pre;background: #fff0;line-height: 1.1;font-family: &quot;Courier New&quot;,Courier,monospace\">                     ░ ┌───┐                ░                 ░ \n",
       "x_0: ────────────────░─┤ X ├──■────■────■───░─────────────────░─\n",
       "     ┌───┐           ░ └───┘┌─┴─┐  │    │   ░                 ░ \n",
       "x_1: ┤ X ├──■────■───░──────┤ X ├──■────■───░─────────────────░─\n",
       "     └───┘┌─┴─┐  │   ░      └───┘┌─┴─┐  │   ░                 ░ \n",
       "x_2: ─────┤ X ├──■───░───────────┤ X ├──■───░─────────────────░─\n",
       "          └───┘┌─┴─┐ ░           └───┘┌─┴─┐ ░ ┌───┐     ┌───┐ ░ \n",
       "x_3: ──────────┤ X ├─░────────────────┤ X ├─░─┤ X ├──■──┤ X ├─░─\n",
       "               └───┘ ░                └───┘ ░ └───┘┌─┴─┐└───┘ ░ \n",
       "y_0: ────────────────░──────────────────────░──────┤ X ├──────░─\n",
       "                     ░                      ░      └───┘      ░ \n",
       "c: 5/═══════════════════════════════════════════════════════════\n",
       "                                                                </pre>"
      ],
      "text/plain": [
       "                     ░ ┌───┐                ░                 ░ \n",
       "x_0: ────────────────░─┤ X ├──■────■────■───░─────────────────░─\n",
       "     ┌───┐           ░ └───┘┌─┴─┐  │    │   ░                 ░ \n",
       "x_1: ┤ X ├──■────■───░──────┤ X ├──■────■───░─────────────────░─\n",
       "     └───┘┌─┴─┐  │   ░      └───┘┌─┴─┐  │   ░                 ░ \n",
       "x_2: ─────┤ X ├──■───░───────────┤ X ├──■───░─────────────────░─\n",
       "          └───┘┌─┴─┐ ░           └───┘┌─┴─┐ ░ ┌───┐     ┌───┐ ░ \n",
       "x_3: ──────────┤ X ├─░────────────────┤ X ├─░─┤ X ├──■──┤ X ├─░─\n",
       "               └───┘ ░                └───┘ ░ └───┘┌─┴─┐└───┘ ░ \n",
       "y_0: ────────────────░──────────────────────░──────┤ X ├──────░─\n",
       "                     ░                      ░      └───┘      ░ \n",
       "c: 5/═══════════════════════════════════════════════════════════\n",
       "                                                                "
      ]
     },
     "execution_count": 9,
     "metadata": {},
     "output_type": "execute_result"
    }
   ],
   "source": [
    "qc.x(x[3])\n",
    "qc.cx(x[3], y[0])\n",
    "qc.x(x[3])\n",
    "qc.barrier()\n",
    "qc.draw()"
   ]
  },
  {
   "cell_type": "markdown",
   "id": "d80701bf-d1de-4729-9e1c-4ccceb432919",
   "metadata": {},
   "source": [
    "### Отмена вычислений `x += 3`"
   ]
  },
  {
   "cell_type": "code",
   "execution_count": 10,
   "id": "d531b4e3-a293-4a8c-8543-58c867def711",
   "metadata": {},
   "outputs": [
    {
     "data": {
      "text/html": [
       "<pre style=\"word-wrap: normal;white-space: pre;background: #fff0;line-height: 1.1;font-family: &quot;Courier New&quot;,Courier,monospace\">                     ░ ┌───┐                ░                 ░                »\n",
       "x_0: ────────────────░─┤ X ├──■────■────■───░─────────────────░───■────■────■──»\n",
       "     ┌───┐           ░ └───┘┌─┴─┐  │    │   ░                 ░   │    │  ┌─┴─┐»\n",
       "x_1: ┤ X ├──■────■───░──────┤ X ├──■────■───░─────────────────░───■────■──┤ X ├»\n",
       "     └───┘┌─┴─┐  │   ░      └───┘┌─┴─┐  │   ░                 ░   │  ┌─┴─┐└───┘»\n",
       "x_2: ─────┤ X ├──■───░───────────┤ X ├──■───░─────────────────░───■──┤ X ├─────»\n",
       "          └───┘┌─┴─┐ ░           └───┘┌─┴─┐ ░ ┌───┐     ┌───┐ ░ ┌─┴─┐└───┘     »\n",
       "x_3: ──────────┤ X ├─░────────────────┤ X ├─░─┤ X ├──■──┤ X ├─░─┤ X ├──────────»\n",
       "               └───┘ ░                └───┘ ░ └───┘┌─┴─┐└───┘ ░ └───┘          »\n",
       "y_0: ────────────────░──────────────────────░──────┤ X ├──────░────────────────»\n",
       "                     ░                      ░      └───┘      ░                »\n",
       "c: 5/══════════════════════════════════════════════════════════════════════════»\n",
       "                                                                               »\n",
       "«     ┌───┐ ░                 ░  ░ \n",
       "«x_0: ┤ X ├─░─────────────────░──░─\n",
       "«     └───┘ ░           ┌───┐ ░  ░ \n",
       "«x_1: ──────░───■────■──┤ X ├─░──░─\n",
       "«           ░   │  ┌─┴─┐└───┘ ░  ░ \n",
       "«x_2: ──────░───■──┤ X ├──────░──░─\n",
       "«           ░ ┌─┴─┐└───┘      ░  ░ \n",
       "«x_3: ──────░─┤ X ├───────────░──░─\n",
       "«           ░ └───┘           ░  ░ \n",
       "«y_0: ──────░─────────────────░──░─\n",
       "«           ░                 ░  ░ \n",
       "«c: 5/═════════════════════════════\n",
       "«                                  </pre>"
      ],
      "text/plain": [
       "                     ░ ┌───┐                ░                 ░                »\n",
       "x_0: ────────────────░─┤ X ├──■────■────■───░─────────────────░───■────■────■──»\n",
       "     ┌───┐           ░ └───┘┌─┴─┐  │    │   ░                 ░   │    │  ┌─┴─┐»\n",
       "x_1: ┤ X ├──■────■───░──────┤ X ├──■────■───░─────────────────░───■────■──┤ X ├»\n",
       "     └───┘┌─┴─┐  │   ░      └───┘┌─┴─┐  │   ░                 ░   │  ┌─┴─┐└───┘»\n",
       "x_2: ─────┤ X ├──■───░───────────┤ X ├──■───░─────────────────░───■──┤ X ├─────»\n",
       "          └───┘┌─┴─┐ ░           └───┘┌─┴─┐ ░ ┌───┐     ┌───┐ ░ ┌─┴─┐└───┘     »\n",
       "x_3: ──────────┤ X ├─░────────────────┤ X ├─░─┤ X ├──■──┤ X ├─░─┤ X ├──────────»\n",
       "               └───┘ ░                └───┘ ░ └───┘┌─┴─┐└───┘ ░ └───┘          »\n",
       "y_0: ────────────────░──────────────────────░──────┤ X ├──────░────────────────»\n",
       "                     ░                      ░      └───┘      ░                »\n",
       "c: 5/══════════════════════════════════════════════════════════════════════════»\n",
       "                                                                               »\n",
       "«     ┌───┐ ░                 ░  ░ \n",
       "«x_0: ┤ X ├─░─────────────────░──░─\n",
       "«     └───┘ ░           ┌───┐ ░  ░ \n",
       "«x_1: ──────░───■────■──┤ X ├─░──░─\n",
       "«           ░   │  ┌─┴─┐└───┘ ░  ░ \n",
       "«x_2: ──────░───■──┤ X ├──────░──░─\n",
       "«           ░ ┌─┴─┐└───┘      ░  ░ \n",
       "«x_3: ──────░─┤ X ├───────────░──░─\n",
       "«           ░ └───┘           ░  ░ \n",
       "«y_0: ──────░─────────────────░──░─\n",
       "«           ░                 ░  ░ \n",
       "«c: 5/═════════════════════════════\n",
       "«                                  "
      ]
     },
     "execution_count": 10,
     "metadata": {},
     "output_type": "execute_result"
    }
   ],
   "source": [
    "# x += 1\n",
    "\n",
    "qc.mct(x[:3], x[3])\n",
    "qc.ccx(x[0], x[1], x[2])\n",
    "qc.cx(x[0], x[1])\n",
    "qc.x(x[0])\n",
    "qc.barrier()\n",
    "\n",
    "# x += 2\n",
    "\n",
    "qc.ccx(x[1], x[2], x[3])\n",
    "qc.cx(x[1], x[2])\n",
    "qc.x(x[1])\n",
    "\n",
    "qc.barrier()\n",
    "\n",
    "\n",
    "qc.barrier()\n",
    "qc.draw()"
   ]
  },
  {
   "cell_type": "markdown",
   "id": "11b6f46e-2238-4099-9c3b-05b0969b6e07",
   "metadata": {},
   "source": [
    "## Всё вместе!\n",
    "\n",
    "Наконец мы собрали функцию-оракула. В qiskit контур можно вернуть из функции и затем использовать как составной многокубитный вентиль. Закончите функцию `oracle()`, собрав в неё все действия, кроме инициализации регистров."
   ]
  },
  {
   "cell_type": "code",
   "execution_count": 11,
   "id": "cfdb0ff9-ed95-4e64-ad44-4060fc62d28a",
   "metadata": {},
   "outputs": [],
   "source": [
    "def oracle():\n",
    "    x = QuantumRegister(4, 'x')\n",
    "    y = QuantumRegister(1, 'y')\n",
    "    qc = QuantumCircuit(x, y, name=\"oracle\")\n",
    "    \n",
    "    #######\n",
    "\n",
    "    qc.x(x[1])\n",
    "    qc.cx(x[1], x[2])\n",
    "    qc.ccx(x[1], x[2], x[3])\n",
    "    qc.barrier()\n",
    "    qc.x(x[0])\n",
    "    qc.cx(x[0], x[1])\n",
    "    qc.ccx(x[0], x[1], x[2])\n",
    "    qc.mct(x[:3], x[3])\n",
    "\n",
    "    qc.x(x[3])\n",
    "    qc.cx(x[3], y[0])\n",
    "    qc.x(x[3])\n",
    "    \n",
    "    qc.mct(x[:3], x[3])\n",
    "    qc.ccx(x[0], x[1], x[2])\n",
    "    qc.cx(x[0], x[1])\n",
    "    qc.x(x[0])\n",
    "    qc.ccx(x[1], x[2], x[3])\n",
    "    qc.cx(x[1], x[2])\n",
    "    qc.x(x[1])\n",
    "    \n",
    "    ########\n",
    "    \n",
    "    return qc"
   ]
  },
  {
   "cell_type": "markdown",
   "id": "65f60e6f-302b-40d8-a172-35b728ca229c",
   "metadata": {},
   "source": [
    "Протестируем нашу функцию. Она должна \"возвращать\" для чисел больше либо равных 3 единицу, для других 0."
   ]
  },
  {
   "cell_type": "code",
   "execution_count": 12,
   "id": "a2c02eb6-09c9-44c6-a48c-8cc31db36a67",
   "metadata": {},
   "outputs": [
    {
     "data": {
      "text/html": [
       "<pre style=\"word-wrap: normal;white-space: pre;background: #fff0;line-height: 1.1;font-family: &quot;Courier New&quot;,Courier,monospace\">     ┌──────────────────────────────────────────────┐┌─────────┐┌─┐            \n",
       "x_0: ┤0                                             ├┤0        ├┤M├────────────\n",
       "     │                                              ││         │└╥┘┌─┐         \n",
       "x_1: ┤1                                             ├┤1        ├─╫─┤M├─────────\n",
       "     │  Initialize(0,0,0,0,0,0,0,1,0,0,0,0,0,0,0,0) ││         │ ║ └╥┘┌─┐      \n",
       "x_2: ┤2                                             ├┤2 oracle ├─╫──╫─┤M├──────\n",
       "     │                                              ││         │ ║  ║ └╥┘┌─┐   \n",
       "x_3: ┤3                                             ├┤3        ├─╫──╫──╫─┤M├───\n",
       "     └──────────────────────────────────────────────┘│         │ ║  ║  ║ └╥┘┌─┐\n",
       "y_0: ────────────────────────────────────────────────┤4        ├─╫──╫──╫──╫─┤M├\n",
       "                                                     └─────────┘ ║  ║  ║  ║ └╥┘\n",
       "c: 5/════════════════════════════════════════════════════════════╩══╩══╩══╩══╩═\n",
       "                                                                 0  1  2  3  4 </pre>"
      ],
      "text/plain": [
       "     ┌──────────────────────────────────────────────┐┌─────────┐┌─┐            \n",
       "x_0: ┤0                                             ├┤0        ├┤M├────────────\n",
       "     │                                              ││         │└╥┘┌─┐         \n",
       "x_1: ┤1                                             ├┤1        ├─╫─┤M├─────────\n",
       "     │  Initialize(0,0,0,0,0,0,0,1,0,0,0,0,0,0,0,0) ││         │ ║ └╥┘┌─┐      \n",
       "x_2: ┤2                                             ├┤2 oracle ├─╫──╫─┤M├──────\n",
       "     │                                              ││         │ ║  ║ └╥┘┌─┐   \n",
       "x_3: ┤3                                             ├┤3        ├─╫──╫──╫─┤M├───\n",
       "     └──────────────────────────────────────────────┘│         │ ║  ║  ║ └╥┘┌─┐\n",
       "y_0: ────────────────────────────────────────────────┤4        ├─╫──╫──╫──╫─┤M├\n",
       "                                                     └─────────┘ ║  ║  ║  ║ └╥┘\n",
       "c: 5/════════════════════════════════════════════════════════════╩══╩══╩══╩══╩═\n",
       "                                                                 0  1  2  3  4 "
      ]
     },
     "execution_count": 12,
     "metadata": {},
     "output_type": "execute_result"
    }
   ],
   "source": [
    "xr = QuantumRegister(4, \"x\")\n",
    "yr = QuantumRegister(1, \"y\")\n",
    "cr = ClassicalRegister(5, \"c\")\n",
    "test_circuit = QuantumCircuit(xr, yr, cr)\n",
    "\n",
    "## здесь можно \"поиграться\" с входными данными. Мы приготовили для вас числo 7\n",
    "test_circuit.initialize([0, 0, 0 ,0, 0, 0, 0, 1, 0, 0, 0 ,0, 0, 0, 0, 0], xr)\n",
    "\n",
    "O = oracle()\n",
    "test_circuit.append(O, xr[:] + yr[:])\n",
    "test_circuit.measure(xr[:] + yr[:], cr)\n",
    "test_circuit.draw()"
   ]
  },
  {
   "cell_type": "code",
   "execution_count": 13,
   "id": "7731b9ca-b457-40d8-96a5-b5901392eb21",
   "metadata": {},
   "outputs": [
    {
     "name": "stdout",
     "output_type": "stream",
     "text": [
      "x = 7, Oracle = 1\n"
     ]
    }
   ],
   "source": [
    "job = execute(test_circuit, BasicAer.get_backend('qasm_simulator'), shots=1000)\n",
    "counts = job.result().get_counts(test_circuit)\n",
    "key = list(counts.keys())[0]\n",
    "print(f'x = {int(key[1:], base=2)}, Oracle = {key[0]}')"
   ]
  },
  {
   "cell_type": "markdown",
   "id": "68d140de-8134-4c4d-92d5-fbe9ef171b31",
   "metadata": {},
   "source": [
    "Или даже так!"
   ]
  },
  {
   "cell_type": "code",
   "execution_count": 14,
   "id": "6855249f-b4fe-4011-81df-95efa3cfc172",
   "metadata": {},
   "outputs": [
    {
     "name": "stdout",
     "output_type": "stream",
     "text": [
      "x = 0, Oracle = 0\n",
      "x = 1, Oracle = 0\n",
      "x = 2, Oracle = 0\n",
      "x = 3, Oracle = 1\n",
      "x = 4, Oracle = 1\n",
      "x = 5, Oracle = 1\n",
      "x = 6, Oracle = 1\n",
      "x = 7, Oracle = 1\n"
     ]
    }
   ],
   "source": [
    "for i in range(8):\n",
    "    x = [0] * 16\n",
    "    x[i] = 1\n",
    "    xr = QuantumRegister(4, \"x\")\n",
    "    yr = QuantumRegister(1, \"y\")\n",
    "    cr = ClassicalRegister(5, \"c\")\n",
    "    test_circuit = QuantumCircuit(xr, yr, cr)\n",
    "    test_circuit.initialize(x, xr)\n",
    "    test_circuit.append(oracle(), xr[:] + yr[:])\n",
    "    test_circuit.measure(xr[:] + yr[:], cr)\n",
    "    counts = execute(\n",
    "        test_circuit, \n",
    "        BasicAer.get_backend('qasm_simulator'), shots=1).result().get_counts(test_circuit)\n",
    "    key = list(counts.keys())[0]\n",
    "    print(f'x = {int(key[1:], base=2)}, Oracle = {key[0]}')"
   ]
  },
  {
   "cell_type": "markdown",
   "id": "26891b5d-87f3-49e3-87e4-42f9055e3761",
   "metadata": {},
   "source": [
    "# Задание.\n",
    "Подумайте, как выполнить функцию оракула для всех этих чисел одновременно? Как получить результат за один эксперимент?"
   ]
  },
  {
   "cell_type": "code",
   "execution_count": 15,
   "id": "5df18048-b446-44bd-b48e-eb2ea7da93c9",
   "metadata": {},
   "outputs": [
    {
     "name": "stdout",
     "output_type": "stream",
     "text": [
      "x = 0, Oracle = 0\n",
      "x = 1, Oracle = 0\n",
      "x = 2, Oracle = 0\n",
      "x = 3, Oracle = 1\n",
      "x = 4, Oracle = 1\n",
      "x = 5, Oracle = 1\n",
      "x = 6, Oracle = 1\n",
      "x = 7, Oracle = 1\n"
     ]
    }
   ],
   "source": [
    "xr = QuantumRegister(4, \"x\")\n",
    "yr = QuantumRegister(1, \"y\")\n",
    "cr = ClassicalRegister(5, \"c\")\n",
    "test_circuit = QuantumCircuit(xr, yr, cr)\n",
    "test_circuit.h(xr[:3])\n",
    "test_circuit.append(oracle(), xr[:] + yr[:])\n",
    "test_circuit.measure(xr[:] + yr[:], cr)\n",
    "counts = execute(\n",
    "    test_circuit, \n",
    "    BasicAer.get_backend('qasm_simulator'), shots=100).result().get_counts(test_circuit)\n",
    "keys = list(counts.keys())\n",
    "for key in sorted(keys):\n",
    "    print(f'x = {int(key[1:], base=2)}, Oracle = {key[0]}')"
   ]
  }
 ],
 "metadata": {
  "kernelspec": {
   "display_name": "Python [conda env:qiskit]",
   "language": "python",
   "name": "conda-env-qiskit-py"
  },
  "language_info": {
   "codemirror_mode": {
    "name": "ipython",
    "version": 3
   },
   "file_extension": ".py",
   "mimetype": "text/x-python",
   "name": "python",
   "nbconvert_exporter": "python",
   "pygments_lexer": "ipython3",
   "version": "3.9.6"
  }
 },
 "nbformat": 4,
 "nbformat_minor": 5
}
