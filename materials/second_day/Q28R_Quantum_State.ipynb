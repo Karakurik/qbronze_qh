{
 "cells": [
  {
   "cell_type": "markdown",
   "metadata": {},
   "source": [
    "<a href=\"https://qworld.net\" target=\"_blank\" align=\"left\"><img src=\"../../qworld/images/header.jpg\"  align=\"left\"></a>\n",
    "$ \\newcommand{\\bra}[1]{\\langle #1|} $\n",
    "$ \\newcommand{\\ket}[1]{|#1\\rangle} $\n",
    "$ \\newcommand{\\braket}[2]{\\langle #1|#2\\rangle} $\n",
    "$ \\newcommand{\\dot}[2]{ #1 \\cdot #2} $\n",
    "$ \\newcommand{\\biginner}[2]{\\left\\langle #1,#2\\right\\rangle} $\n",
    "$ \\newcommand{\\mymatrix}[2]{\\left( \\begin{array}{#1} #2\\end{array} \\right)} $\n",
    "$ \\newcommand{\\myvector}[1]{\\mymatrix{c}{#1}} $\n",
    "$ \\newcommand{\\myrvector}[1]{\\mymatrix{r}{#1}} $\n",
    "$ \\newcommand{\\mypar}[1]{\\left( #1 \\right)} $\n",
    "$ \\newcommand{\\mybigpar}[1]{ \\Big( #1 \\Big)} $\n",
    "$ \\newcommand{\\sqrttwo}{\\frac{1}{\\sqrt{2}}} $\n",
    "$ \\newcommand{\\dsqrttwo}{\\dfrac{1}{\\sqrt{2}}} $\n",
    "$ \\newcommand{\\onehalf}{\\frac{1}{2}} $\n",
    "$ \\newcommand{\\donehalf}{\\dfrac{1}{2}} $\n",
    "$ \\newcommand{\\hadamard}{ \\mymatrix{rr}{ \\sqrttwo & \\sqrttwo \\\\ \\sqrttwo & -\\sqrttwo }} $\n",
    "$ \\newcommand{\\vzero}{\\myvector{1\\\\0}} $\n",
    "$ \\newcommand{\\vone}{\\myvector{0\\\\1}} $\n",
    "$ \\newcommand{\\stateplus}{\\myvector{ \\sqrttwo \\\\  \\sqrttwo } } $\n",
    "$ \\newcommand{\\stateminus}{ \\myrvector{ \\sqrttwo \\\\ -\\sqrttwo } } $\n",
    "$ \\newcommand{\\myarray}[2]{ \\begin{array}{#1}#2\\end{array}} $\n",
    "$ \\newcommand{\\X}{ \\mymatrix{cc}{0 & 1 \\\\ 1 & 0}  } $\n",
    "$ \\newcommand{\\I}{ \\mymatrix{rr}{1 & 0 \\\\ 0 & 1}  } $\n",
    "$ \\newcommand{\\Z}{ \\mymatrix{rr}{1 & 0 \\\\ 0 & -1}  } $\n",
    "$ \\newcommand{\\Htwo}{ \\mymatrix{rrrr}{ \\frac{1}{2} & \\frac{1}{2} & \\frac{1}{2} & \\frac{1}{2} \\\\ \\frac{1}{2} & -\\frac{1}{2} & \\frac{1}{2} & -\\frac{1}{2} \\\\ \\frac{1}{2} & \\frac{1}{2} & -\\frac{1}{2} & -\\frac{1}{2} \\\\ \\frac{1}{2} & -\\frac{1}{2} & -\\frac{1}{2} & \\frac{1}{2} } } $\n",
    "$ \\newcommand{\\CNOT}{ \\mymatrix{cccc}{1 & 0 & 0 & 0 \\\\ 0 & 1 & 0 & 0 \\\\ 0 & 0 & 0 & 1 \\\\ 0 & 0 & 1 & 0} } $\n",
    "$ \\newcommand{\\norm}[1]{ \\left\\lVert #1 \\right\\rVert } $\n",
    "$ \\newcommand{\\pstate}[1]{ \\lceil \\mspace{-1mu} #1 \\mspace{-1.5mu} \\rfloor } $\n",
    "$ \\newcommand{\\greenbit}[1] {\\mathbf{{\\color{green}#1}}} $\n",
    "$ \\newcommand{\\bluebit}[1] {\\mathbf{{\\color{blue}#1}}} $\n",
    "$ \\newcommand{\\redbit}[1] {\\mathbf{{\\color{red}#1}}} $\n",
    "$ \\newcommand{\\brownbit}[1] {\\mathbf{{\\color{brown}#1}}} $\n",
    "$ \\newcommand{\\blackbit}[1] {\\mathbf{{\\color{black}#1}}} $"
   ]
  },
  {
   "cell_type": "markdown",
   "metadata": {},
   "source": [
    "<font style=\"font-size:28px;\" align=\"left\"><b> Quantum State </b></font>\n",
    "<br>\n",
    "_prepared by Abuzer Yakaryilmaz_\n",
    "<br><br>\n",
    "[<img src=\"../../qworld/images/watch_lecture.jpg\" align=\"left\">](https://youtu.be/6OE96rgQz8s)\n",
    "<br><br><br>"
   ]
  },
  {
   "cell_type": "markdown",
   "metadata": {},
   "source": [
    "*Для любой системы, в том числе квантовой, если мы наблюдаем её целиком, суммарная вероятность всех исходов всегда равна 1.*\n",
    "\n",
    "Например, следующие векторы <u>не являются</u> корректными квантовыми состояниями:\n",
    "\n",
    "$$\n",
    "    \\myvector{ \\dfrac{1}{2} \\\\ \\dfrac{1}{2} } \n",
    "    \\mbox{ и }\n",
    "    \\myvector{ \\dfrac{\\sqrt{3}}{2} \\\\ \\dfrac{1}{\\sqrt{2}} }.\n",
    "$$\n",
    "\n",
    "Для первого вектора вероятность наблюдать $\\ket{0} $ или $ \\ket{1} $ составляет по $ \\dfrac{1}{4} $. \n",
    "\n",
    "Таким образом, суммарная вероятность получить любой из результатов $ \\dfrac{1}{4} + \\dfrac{1}{4} = \\dfrac{1}{2} $, что меньше 1.\n",
    "\n",
    "Для второго вектора вероятности наблюдать $\\ket{0} $ или $ \\ket{1} $ составляют $ \\dfrac{3}{4} $ и $ \\dfrac{1}{2} $ соответственно. \n",
    "\n",
    "Тогда общая вероятность $ \\dfrac{3}{4} + \\dfrac{1}{2} = \\dfrac{5}{4} $, что больше 1."
   ]
  },
  {
   "cell_type": "markdown",
   "metadata": {},
   "source": [
    "<font color=\"blue\"><b>Сумма квадратов модулей амплитуд всегда равна 1 для корректного квантового состояния.</b></font>"
   ]
  },
  {
   "cell_type": "markdown",
   "metadata": {},
   "source": [
    "<font color=\"blue\"><b>Другими, квантовое состояние может быть быть представлено вектором длины 1, и наоборот, вектор длины 1 является корректным квантовым состоянием.</b></font>\n",
    "\n",
    "<i>Сумма квадрат амплитуд это квадрат длины вектора, но $\\sqrt{1}=1$.</i>"
   ]
  },
  {
   "cell_type": "markdown",
   "metadata": {},
   "source": [
    "<i> <b>Техическое замечание:</b> Мы обозначает квантовое состояние как $ \\ket{u} $ вместо привычного $ u $. Вспомните обозначение для вычисления длины вектора: $ \\norm{u} = \\sqrt{\\dot{u}{u}} $. \n",
    "    \n",
    "В квантовых вычислениях используется скалярное произведение, определённое для комплексных чисел. В бра-кет нотации Дирака в записи верны утверждения $ \\norm{ \\ket{u} } = \\sqrt{ \\braket{u}{u} } = 1 $ и $ \\braket{u}{u} = 1 $, где скобка \"$ \\braket{u}{u} $\" является коротким способом записать скалярное произведение $ \\bra{u}\\ket{u} $. При вычислениях в действительных числах $ \\braket{v}{v} = \\dot{v}{v}  $, однако для комплексных это не так.\n",
    "</i>"
   ]
  },
  {
   "cell_type": "markdown",
   "metadata": {},
   "source": [
    "<h3> Задание 1 </h3>\n",
    "\n",
    "Если следующие векторы являются корректными квантовыми состояниями с действительными коэффициентами, каковы значения $a$ и $b$?\n",
    "\n",
    "$$\n",
    "    \\ket{v} = \\myrvector{a \\\\ -0.1 \\\\ -0.3 \\\\ 0.4 \\\\ 0.5}\n",
    "    ~~~~~ \\mbox{и} ~~~~~\n",
    "   \\ket{u} = \\myrvector{ \\frac{1}{\\sqrt{2}} \\\\ \\frac{1}{\\sqrt{b}} \\\\ -\\frac{1}{\\sqrt{3}} }.\n",
    "$$"
   ]
  },
  {
   "cell_type": "code",
   "execution_count": 1,
   "metadata": {},
   "outputs": [],
   "source": [
    "#\n",
    "# напишите ваши рассуждения или вычисления тут \n",
    "#"
   ]
  },
  {
   "cell_type": "markdown",
   "metadata": {},
   "source": [
    "<a href=\"Q28_Quantum_State_Solutions.ipynb#task1\">решение</a>"
   ]
  },
  {
   "cell_type": "markdown",
   "metadata": {},
   "source": [
    "<h3> Квантовые операторы </h3>\n",
    "\n",
    "Мы определили квантовое состояние, теперь нам легко определить *квантовый оператор*.\n",
    "\n",
    "<font color=\"blue\"><b>Любая квадратная матрица, которая при умножении на вектор сохраняет его длину, является квантовым оператором. И наоборот.</b></font>"
   ]
  },
  {
   "cell_type": "markdown",
   "metadata": {},
   "source": [
    "<a id=\"task2\"></a>\n",
    "<h3> Задание 2</h3>\n",
    "\n",
    "Напомним оператор Адамара:\n",
    "\n",
    "$$\n",
    "    H = \\hadamard.\n",
    "$$"
   ]
  },
  {
   "cell_type": "markdown",
   "metadata": {},
   "source": [
    "Создайте случайным образом 2-мерное квантовое состояние и проверьте, что оператор Адамара сохраняет его длину.\n",
    "\n",
    "<b>Напишите функцию</b>, которая возвращает случайное 2-мерное квантовое состояние.\n",
    "\n",
    "<i>Подсказка:\n",
    "<ul>\n",
    "    <li> Выберите случаные числа в интервале -100..100 для амплитуд состояний 0 и 1 </li>\n",
    "    <li> Вычислите подходящий нормирующий коэффициент и разделите оба числа на него. Длина результрирущего вектора должна стать 1.</li>\n",
    "</ul>\n",
    "</i>"
   ]
  },
  {
   "cell_type": "markdown",
   "metadata": {},
   "source": [
    "<b>Напишите функцию</b>, которая проверяет, что данное состояние является корректным квантовым состоянием.\n",
    "\n",
    "(Из-за особенностей вычислений сумма квадратов иногда получается равной не 1, а очень близкому числу, например 0.9999999999999998.)\n",
    "\n",
    "<b>Повторите 10 раз:</b>\n",
    "<ul>\n",
    "    <li> Выберите случайное квантовое состояние </li>\n",
    "    <li> Проверьте, что оно корректное </li>\n",
    "    <li> Умножьте матрицу Адамара на это состояние </li>\n",
    "    <li> Проверьте, что результат -- корректное квантовое состояние</li>\n",
    "</ul>"
   ]
  },
  {
   "cell_type": "code",
   "execution_count": 5,
   "metadata": {},
   "outputs": [],
   "source": [
    "#\n",
    "# вы можете объявлять функции в отдтельных ячейках\n",
    "#\n",
    "\n",
    "from random import randrange\n",
    "import numpy as np\n",
    "\n",
    "def random_quantum_state():\n",
    "    # quantum state \n",
    "    quantum_state = np.array([[0], [0]])\n",
    "    #\n",
    "    #\n",
    "    #\n",
    "    return quantum_state\n",
    "\n",
    "\n",
    "def validate_quantum_state(state):\n",
    "    \n",
    "    return False"
   ]
  },
  {
   "cell_type": "code",
   "execution_count": null,
   "metadata": {},
   "outputs": [],
   "source": [
    "import numpy as np\n",
    "H = (.5 ** .5) * np.array([[1, 1], [1, -1]])\n",
    "\n",
    "for i in range(10):\n",
    "    state = random_quantum_state()\n",
    "    print(\"Вектор:\", state.flatten())\n",
    "    \n",
    "    valid = validate_quantum_state(state)\n",
    "    print(\"Корректное состояние:\", valid)\n",
    "    \n",
    "    new_state = H @ state\n",
    "    print(\"Новый вектор:\", new_state.flatten())\n",
    "    \n",
    "    valid = validate_quantum_state(new_state)\n",
    "    print(\"Корректное состояние:\", valid)\n",
    "    \n",
    "    print()\n",
    "    "
   ]
  },
  {
   "cell_type": "markdown",
   "metadata": {},
   "source": [
    "<a href=\"Q28_Quantum_State_Solutions.ipynb#task2\">решение</a>"
   ]
  },
  {
   "cell_type": "markdown",
   "metadata": {},
   "source": [
    "<a id=\"task3\"></a>\n",
    "<h3> Задание 3 (дополнительное)</h3>\n",
    "\n",
    "Пусть вектор $ \\ket{u} =  \\myvector{x \\\\ y} \\in \\mathbb{R}^2 $ -- квантовое состояние. \n",
    "\n",
    "Покажите, что $ \\ket{u'} = H \\ket{u} $ также является квантовым состоянием.\n",
    "\n",
    "_Hint: Длина $ \\ket{u'} $ должна быть равна 1, при условии что длина $ \\ket{u} $ равна 1._"
   ]
  }
 ],
 "metadata": {
  "kernelspec": {
   "display_name": "Python 3 (ipykernel)",
   "language": "python",
   "name": "python3"
  },
  "language_info": {
   "codemirror_mode": {
    "name": "ipython",
    "version": 3
   },
   "file_extension": ".py",
   "mimetype": "text/x-python",
   "name": "python",
   "nbconvert_exporter": "python",
   "pygments_lexer": "ipython3",
   "version": "3.9.12"
  }
 },
 "nbformat": 4,
 "nbformat_minor": 4
}
