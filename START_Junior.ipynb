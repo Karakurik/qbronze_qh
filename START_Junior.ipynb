{
 "cells": [
  {
   "cell_type": "markdown",
   "metadata": {},
   "source": [
    "<table width=\"100%\"><tr style=\"background-color:white;\">\n",
    "    <td style=\"text-align:left;padding:0px;width:142px'\">\n",
    "        <a href=\"https://qworld.net\" target=\"_blank\">\n",
    "            <img src=\"qworld/images/QWorld.png\"></a></td>\n",
    "    <td width=\"*\">&nbsp;&nbsp;&nbsp;&nbsp;&nbsp;&nbsp;</td>\n",
    "    <!-- ############################################# -->\n",
    "    <td style=\"padding:0px;width:90px;\">\n",
    "        <img align=\"right\" src=\"qworld/images/follow_us.png\" height=\"40px\"></td>\n",
    "    <td style=\"padding:0px;width:40px;\">\n",
    "        <a href=\"https://twitter.com/QWorld19\" target=\"_blank\">\n",
    "        <img align=\"right\" src=\"qworld/images/Twitter.png\" width=\"40px\"></a> </td>\n",
    "    <td style=\"padding:0px;width:5px;\"></td>\n",
    "    <td style=\"padding:0px;width:40px;\">\n",
    "        <a href=\"https://www.facebook.com/qworld19/\" target=\"_blank\">\n",
    "        <img align=\"right\" src=\"qworld/images/Fb.png\"></a></td>\n",
    "    <td style=\"padding:0px;width:5px;\"></td>\n",
    "    <td style=\"padding:0px;width:40px;\">\n",
    "        <a href=\"https://www.linkedin.com/company/qworld19\" target=\"_blank\">\n",
    "        <img align=\"right\" src=\"qworld/images/LinkedIn.png\"></a></td>\n",
    "    <td style=\"padding:0px;width:5px;\"></td>\n",
    "    <td style=\"padding:0px;width:40px;\">\n",
    "        <a href=\"https://youtube.com/QWorld19?sub_confirmation=1\" target=\"_blank\">\n",
    "        <img align=\"right\" src=\"qworld/images/YT.png\"></a></td>\n",
    "    <!-- ############################################# -->\n",
    "    <td style=\"padding:0px;width:60px;\">\n",
    "        <img align=\"right\" src=\"qworld/images/join.png\" height=\"40px\"></td>\n",
    "    <td style=\"padding:0px;width:40px;\">\n",
    "        <a href=\"https://discord.gg/akCvr7U87g\"\n",
    "           target=\"_blank\">\n",
    "        <img align=\"right\" src=\"qworld/images/Discord.png\"></a></td>\n",
    "    <!-- ############################################# -->\n",
    "    <td style=\"padding:0px;width:72px;\">\n",
    "        <img align=\"right\" src=\"qworld/images/w3.png\" height=\"40px\"></td>\n",
    "    <td style=\"padding:0px;width:40px;\">\n",
    "        <a href=\"https://qworld.net\" target=\"_blank\">\n",
    "        <img align=\"right\" src=\"qworld/images/www.png\"></a></td>\n",
    "</tr></table>"
   ]
  },
  {
   "cell_type": "markdown",
   "metadata": {},
   "source": [
    "<h1 align=\"left\" style=\"color: #cd7f32;\"> План </h1>"
   ]
  },
  {
   "cell_type": "markdown",
   "metadata": {},
   "source": [
    "## День первый\n",
    "\n",
    "### Ликбез по Python\n",
    "\n",
    "[Jupyter notebooks](junior-materials/first_day/Python02_Into_Notebooks.ipynb) &nbsp;|&nbsp;\n",
    "[Переменные](junior-materials/first_day/Python08_Basics_Variables.ipynb) &nbsp;|&nbsp;\n",
    "[Циклы](junior-materials/first_day/Python12_Basics_Loops.ipynb) &nbsp;|&nbsp;\n",
    "[Условия](junior-materials/first_day/Python16_Basics_Conditionals.ipynb) &nbsp;|&nbsp;\n",
    "[Списки](junior-materials/first_day/Python20_Basics_Lists.ipynb) &nbsp;|&nbsp;\n",
    "[Краткое введение](junior-materials/first_day/Python04_Quick_Reference.ipynb) &nbsp;|&nbsp;\n",
    "[Рисование](junior-materials/first_day/Python06_Drawing.ipynb) \n",
    "\n",
    "#### Qiskit\n",
    "\n",
    "[Qiskit: установка](junior-materials/first_day/Qiskit_installation_and_test.ipynb) &nbsp;|&nbsp;\n",
    "[Qiskit: кратко](junior-materials/first_day/B01_Qiskit_Reference.ipynb) \n",
    "\n",
    "#### Двоичное представление\n",
    "\n",
    "[Двоичное представление и дополнение до 2](junior-materials/first_day/B03_One_Bit.ipynb) \n",
    "\n",
    "\n",
    "## День второй\n",
    "\n",
    "#### Состояния и операторы\n",
    "\n",
    "[Оператор Адамара](junior-materials/second_day/Q20_Hadamard.ipynb) &nbsp;|&nbsp;\n",
    "[Суперпозиция и измерение](junior-materials/second_day/Q36_Superposition_and_Measurement.ipynb) &nbsp;|&nbsp;\n",
    "[Два кубита](junior-materials/second_day/Q60_Two_Qubits.ipynb) &nbsp;|&nbsp;\n",
    "\n",
    "[Квантовое состояние](junior-materials/second_day/Q28R_Quantum_State.ipynb) &nbsp;|&nbsp;\n",
    "[Простой инкремент](junior-materials/second_day/Q61R_Increment.ipynb) &nbsp;|&nbsp;\n",
    "[Сложение чисeл](junior-materials/second_day/Q62R_Summator.ipynb)  &nbsp;|&nbsp;\n",
    "[Как построить оракула](junior-materials/second_day/Q63R_Oracle.ipynb)  &nbsp;|&nbsp;\n",
    "\n",
    "#### Усиление комплеской амплитуды\n",
    "\n",
    "[Операции на нескольких кубитах](junior-materials/second_day/Q80_Multiple_Control_Constructions.ipynb) &nbsp;|&nbsp;\n",
    "[Инверсия относительно среднего](junior-materials/second_day/Q84_Inversion_About_the_Mean.ipynb) &nbsp;|&nbsp;\n",
    "[Phase Kickback](junior-materials/second_day/Q64_Phase_Kickback.ipynb) &nbsp;|&nbsp; \n",
    "[Phase Kickback по-русски](junior-materials/second_day/Q65R_Phase_Kickback.ipynb) &nbsp;|&nbsp;\n",
    "[Отражение относительно среднего по-русски](junior-materials/second_day/Q81R_Inversion_Over_Mean.ipynb) &nbsp;|&nbsp;\n",
    "\n",
    "## День третий\n",
    "\n",
    "[Алгоритм поиска Гровера: One Qubit Representation](junior-materials/third_day/Q88_Grovers_Search_One_Qubit_Representation.ipynb) &nbsp;|&nbsp;\n",
    "[Алгоритм поиска Гровера: Implementation](junior-materials/third_day/Q92_Grovers_Search_Implementation.ipynb)"
   ]
  }
 ],
 "metadata": {
  "kernelspec": {
   "display_name": "Python 3",
   "language": "python",
   "name": "python3"
  },
  "language_info": {
   "codemirror_mode": {
    "name": "ipython",
    "version": 3
   },
   "file_extension": ".py",
   "mimetype": "text/x-python",
   "name": "python",
   "nbconvert_exporter": "python",
   "pygments_lexer": "ipython3",
   "version": "3.8.8"
  }
 },
 "nbformat": 4,
 "nbformat_minor": 4
}
