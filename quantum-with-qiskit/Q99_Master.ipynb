{
 "cells": [
  {
   "cell_type": "markdown",
   "id": "234dfa44-b973-467a-8fb1-4a1e1e75d042",
   "metadata": {},
   "source": [
    "# Общий порядок изложения\n",
    "- Ликбез по Python.\n",
    "- Двоичное представление числа. Дополнение до 2.\n",
    "- Состояние и операторы\n",
    "  - Понятие состояния, его описание с помощью вектора. Изменение состояния с помощью оператора.\n",
    "  - Квантовое состояние. Суперпозиция квантовых состояний. Действие оператора на суперпозицию. Запись в ket-нотации.\n",
    "  - Квантовые вентили. Однокубитный вентиль. $I$, $X$, $H$. Составной вентиль для 2 кубит. Тензорное произведение. Двухкубитный вентиль. $CX$.\n",
    "  - Понятие запутанности через $(H\\otimes I)\\times CX$\n",
    "  - Понятие фазы. Оператор Z. Объяснение фазы через $HZH$.\n",
    "  - Отмена вычислений и обратные операции.\n",
    "- Двоичный инкремент. Двочный $+k$.\n",
    "- Двоичный оракул. Правила составления.\n",
    "  - имплементация `if (x > 0) { y = ~ y}` в виде оракула.\n",
    "  - имплементация `if (x < 3) { y = ~ y}` в виде оракула.\n",
    "  - имплементация фазовой логики. `if (x > 4) {|y> = -|y>}`.\n",
    "- Усиление комплексной амплитуды (Grover Diffusion).\n",
    "  - идея метода inversion over mean.\n",
    "  - выражение в матричном виде.\n",
    "  - имплементация в виде контура.\n",
    "- Phase Kickback.\n",
    "  - собственные значения и вектора.\n",
    "  - пример отката на $X$ и $CX$.\n",
    "  - пример отката на более сложной логике из лабораторки.\n",
    "- Собираем Гровера.\n",
    "  - Classical Oracle + Phase Kickback + AA."
   ]
  },
  {
   "cell_type": "markdown",
   "id": "3d09f9f8-7eae-4244-a69f-8983e800b0f2",
   "metadata": {},
   "source": [
    "# Блоки и код"
   ]
  },
  {
   "cell_type": "markdown",
   "id": "3af2c69c-5ebc-49c0-9200-85f0d77aa538",
   "metadata": {},
   "source": [
    "## Ликбез по Python\n",
    "\n",
    "[Jupyter notebooks](https://github.com/QRussia/bronze-qiskit-junior/blob/master/junior-materials/first_day/Python02_Into_Notebooks.ipynb)\n",
    "\n",
    "[Variables](https://github.com/QRussia/bronze-qiskit-junior/blob/master/junior-materials/first_day/Python08_Basics_Variables.ipynb)\n",
    "\n",
    "[Loops](https://github.com/QRussia/bronze-qiskit-junior/blob/master/junior-materials/first_day/Python12_Basics_Loops.ipynb)\n",
    "\n",
    "[Conditionals](https://github.com/QRussia/bronze-qiskit-junior/blob/master/junior-materials/first_day/Python16_Basics_Conditionals.ipynb)\n",
    "\n",
    "[Lists](https://github.com/QRussia/bronze-qiskit-junior/blob/master/junior-materials/first_day/Python20_Basics_Lists.ipynb)\n",
    "\n",
    "[Python Reference](https://github.com/QRussia/bronze-qiskit-junior/blob/master/qjunior-materials/first_day/Python04_Quick_Reference.ipynb)\n",
    "\n",
    "[Drawing Reference](https://github.com/QRussia/bronze-qiskit-junior/blob/master/junior-materials/first_day/Python06_Drawing.ipynb)\n"
   ]
  },
  {
   "cell_type": "markdown",
   "id": "eb725026",
   "metadata": {},
   "source": [
    "## Двоичное представление и дополнение до 2.",
    "\n",
    "[Один бит](https://github.com/QRussia/bronze-qiskit-junior/blob/master/junior-materials/first_day/B03_One_Bit.ipynb)\n"
   ]
  },
  {
   "cell_type": "code",
   "execution_count": null,
   "id": "ca1f9200-32e6-482e-884c-ce4eeff3f65a",
   "metadata": {},
   "outputs": [],
   "source": []
  },
  {
   "cell_type": "markdown",
   "id": "72c73358-1322-4f7c-a262-41525a1c1516",
   "metadata": {},
   "source": [
    "## Состояния и операторы\n",
    "\n",
    "https://github.com/IUCVLab/qp/blob/main/labs/000%20States%20and%20measurement.ipynb\n",
    "\n",
    "https://github.com/IUCVLab/qp/blob/main/labs/001%20Not.ipynb\n",
    "\n",
    "https://github.com/QRussia/bronze-qiskit-junior/blob/master/quantum-with-qiskit/Q20_Hadamard.ipynb\n",
    "\n",
    "https://github.com/QRussia/bronze-qiskit-junior/blob/master/quantum-with-qiskit/Q36_Superposition_and_Measurement.ipynb\n",
    "\n",
    "https://github.com/QRussia/bronze-qiskit-junior/blob/master/quantum-with-qiskit/Q60_Two_Qubits.ipynb"
   ]
  },
  {
   "cell_type": "code",
   "execution_count": null,
   "id": "8687d54f-d93a-4844-a165-8f901b9cf98b",
   "metadata": {},
   "outputs": [],
   "source": []
  },
  {
   "cell_type": "markdown",
   "id": "610a8227-3582-4738-94c2-964edf11b5e2",
   "metadata": {},
   "source": [
    "## Двоичный инкремент и +k\n",
    "\n",
    "https://github.com/IUCVLab/qp/blob/main/labs/050%20Increment.ipynb"
   ]
  },
  {
   "cell_type": "code",
   "execution_count": null,
   "id": "4c4fe10e-28a4-419a-9df5-a4f292422d11",
   "metadata": {},
   "outputs": [],
   "source": []
  },
  {
   "cell_type": "markdown",
   "id": "fc7991b1-3789-4a72-9ac2-7d207835dd40",
   "metadata": {},
   "source": [
    "## Двоичный оракул\n",
    "\n",
    "https://github.com/IUCVLab/qp/blob/main/labs/070%20IF%20statement.ipynb"
   ]
  },
  {
   "cell_type": "code",
   "execution_count": null,
   "id": "a567cf92-588a-4697-bf39-f4dbdb8cf752",
   "metadata": {},
   "outputs": [],
   "source": []
  },
  {
   "cell_type": "markdown",
   "id": "6c54e514-b5ac-4813-a27d-32bab066db40",
   "metadata": {},
   "source": [
    "## Усиление комплеской амплитуды (AA)\n",
    "\n",
    "https://github.com/QRussia/bronze-qiskit-junior/blob/master/quantum-with-qiskit/Q80_Multiple_Control_Constructions.ipynb\n",
    "\n",
    "https://github.com/IUCVLab/qp/blob/main/labs/110%20Grover%20Search.ipynb\n",
    "\n",
    "https://github.com/IUCVLab/qp/blob/main/labs/080%20Encoding%20in%20phase.ipynb\n",
    "\n",
    "https://github.com/QRussia/bronze-qiskit-junior/blob/master/quantum-with-qiskit/Q84_Inversion_About_the_Mean.ipynb"
   ]
  },
  {
   "cell_type": "code",
   "execution_count": null,
   "id": "d976d9c4-a524-4fde-afeb-e850c044972b",
   "metadata": {},
   "outputs": [],
   "source": []
  },
  {
   "cell_type": "markdown",
   "id": "ba69ebb2-01fe-4234-a1f0-d4f38cc2f9aa",
   "metadata": {},
   "source": [
    "## Phase Kickback\n",
    "\n",
    "https://github.com/IUCVLab/qp/blob/main/labs/105%20Phase%20Kickback.ipynb\n",
    "\n",
    "https://github.com/QRussia/bronze-qiskit-junior/blob/master/quantum-with-qiskit/Q64_Phase_Kickback.ipynb"
   ]
  },
  {
   "cell_type": "code",
   "execution_count": null,
   "id": "16ede0d1-fc07-43af-8e16-9f86c546f328",
   "metadata": {},
   "outputs": [],
   "source": []
  },
  {
   "cell_type": "markdown",
   "id": "a073a9c6-e456-4dff-8e4b-df798d86a60b",
   "metadata": {},
   "source": [
    "## Grover\n",
    "\n",
    "https://github.com/IUCVLab/qp/blob/main/labs/110%20Grover%20Search.ipynb\n",
    "\n",
    "https://github.com/QRussia/bronze-qiskit-junior/blob/master/quantum-with-qiskit/Q92_Grovers_Search_Implementation.ipynb"
   ]
  }
 ],
 "metadata": {
  "kernelspec": {
   "display_name": "Python 3 (ipykernel)",
   "language": "python",
   "name": "python3"
  },
  "language_info": {
   "codemirror_mode": {
    "name": "ipython",
    "version": 3
   },
   "file_extension": ".py",
   "mimetype": "text/x-python",
   "name": "python",
   "nbconvert_exporter": "python",
   "pygments_lexer": "ipython3",
   "version": "3.9.7"
  }
 },
 "nbformat": 4,
 "nbformat_minor": 5
}
